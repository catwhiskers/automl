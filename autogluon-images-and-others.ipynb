{
 "cells": [
  {
   "cell_type": "code",
   "execution_count": 2,
   "metadata": {},
   "outputs": [
    {
     "name": "stdout",
     "output_type": "stream",
     "text": [
      "Looking in indexes: https://pypi.org/simple, https://pip.repos.neuron.amazonaws.com\n",
      "Collecting autogluon\n",
      "  Using cached autogluon-0.3.1-py3-none-any.whl (9.9 kB)\n",
      "Collecting autogluon.text==0.3.1\n",
      "  Using cached autogluon.text-0.3.1-py3-none-any.whl (52 kB)\n",
      "Collecting autogluon.extra==0.3.1\n",
      "  Using cached autogluon.extra-0.3.1-py3-none-any.whl (28 kB)\n",
      "Collecting autogluon.tabular[all]==0.3.1\n",
      "  Using cached autogluon.tabular-0.3.1-py3-none-any.whl (273 kB)\n",
      "Collecting autogluon.vision==0.3.1\n",
      "  Using cached autogluon.vision-0.3.1-py3-none-any.whl (38 kB)\n",
      "Collecting autogluon.features==0.3.1\n",
      "  Using cached autogluon.features-0.3.1-py3-none-any.whl (56 kB)\n",
      "Collecting autogluon.core==0.3.1\n",
      "  Using cached autogluon.core-0.3.1-py3-none-any.whl (352 kB)\n",
      "Collecting autogluon.mxnet==0.3.1\n",
      "  Using cached autogluon.mxnet-0.3.1-py3-none-any.whl (33 kB)\n",
      "Requirement already satisfied: tqdm>=4.38.0 in /home/ec2-user/anaconda3/envs/mxnet_p36/lib/python3.6/site-packages (from autogluon.core==0.3.1->autogluon) (4.61.2)\n",
      "Requirement already satisfied: graphviz<1.0,>=0.8.1 in /home/ec2-user/anaconda3/envs/mxnet_p36/lib/python3.6/site-packages (from autogluon.core==0.3.1->autogluon) (0.8.4)\n",
      "Collecting ConfigSpace==0.4.19\n",
      "  Using cached ConfigSpace-0.4.19-cp36-cp36m-manylinux2014_x86_64.whl (4.2 MB)\n",
      "Requirement already satisfied: matplotlib in /home/ec2-user/anaconda3/envs/mxnet_p36/lib/python3.6/site-packages (from autogluon.core==0.3.1->autogluon) (3.3.4)\n",
      "Collecting autograd>=1.3\n",
      "  Using cached autograd-1.3-py3-none-any.whl\n",
      "Requirement already satisfied: cython in /home/ec2-user/anaconda3/envs/mxnet_p36/lib/python3.6/site-packages (from autogluon.core==0.3.1->autogluon) (0.29.22)\n",
      "Requirement already satisfied: pandas<2.0,>=1.0.0 in /home/ec2-user/anaconda3/envs/mxnet_p36/lib/python3.6/site-packages (from autogluon.core==0.3.1->autogluon) (1.1.5)\n",
      "Requirement already satisfied: tornado>=5.0.1 in /home/ec2-user/anaconda3/envs/mxnet_p36/lib/python3.6/site-packages (from autogluon.core==0.3.1->autogluon) (6.1)\n",
      "Requirement already satisfied: distributed>=2.6.0 in /home/ec2-user/anaconda3/envs/mxnet_p36/lib/python3.6/site-packages (from autogluon.core==0.3.1->autogluon) (2021.2.0)\n",
      "Requirement already satisfied: dill<1.0,>=0.3.3 in /home/ec2-user/anaconda3/envs/mxnet_p36/lib/python3.6/site-packages (from autogluon.core==0.3.1->autogluon) (0.3.4)\n",
      "Requirement already satisfied: boto3 in /home/ec2-user/anaconda3/envs/mxnet_p36/lib/python3.6/site-packages (from autogluon.core==0.3.1->autogluon) (1.18.24)\n",
      "Requirement already satisfied: paramiko>=2.4 in /home/ec2-user/anaconda3/envs/mxnet_p36/lib/python3.6/site-packages (from autogluon.core==0.3.1->autogluon) (2.7.2)\n",
      "Collecting scipy<1.7,>=1.5.4\n",
      "  Using cached scipy-1.5.4-cp36-cp36m-manylinux1_x86_64.whl (25.9 MB)\n",
      "Requirement already satisfied: scikit-learn<0.25,>=0.23.2 in /home/ec2-user/anaconda3/envs/mxnet_p36/lib/python3.6/site-packages (from autogluon.core==0.3.1->autogluon) (0.24.1)\n",
      "Requirement already satisfied: numpy<1.22,>=1.19 in /home/ec2-user/anaconda3/envs/mxnet_p36/lib/python3.6/site-packages (from autogluon.core==0.3.1->autogluon) (1.19.5)\n",
      "Requirement already satisfied: dask>=2.6.0 in /home/ec2-user/anaconda3/envs/mxnet_p36/lib/python3.6/site-packages (from autogluon.core==0.3.1->autogluon) (2021.2.0)\n",
      "Requirement already satisfied: requests in /home/ec2-user/anaconda3/envs/mxnet_p36/lib/python3.6/site-packages (from autogluon.core==0.3.1->autogluon) (2.25.1)\n",
      "Requirement already satisfied: pytest in /home/ec2-user/anaconda3/envs/mxnet_p36/lib/python3.6/site-packages (from autogluon.extra==0.3.1->autogluon) (6.2.2)\n",
      "Collecting openml\n",
      "  Using cached openml-0.12.2-py3-none-any.whl\n",
      "Collecting gluoncv<0.10.5,>=0.10.4\n",
      "  Using cached gluoncv-0.10.4.post4-py2.py3-none-any.whl (1.3 MB)\n",
      "Requirement already satisfied: Pillow<8.4.0,>=8.3.0 in /home/ec2-user/anaconda3/envs/mxnet_p36/lib/python3.6/site-packages (from autogluon.mxnet==0.3.1->autogluon) (8.3.1)\n",
      "Requirement already satisfied: networkx<3.0,>=2.3 in /home/ec2-user/anaconda3/envs/mxnet_p36/lib/python3.6/site-packages (from autogluon.tabular[all]==0.3.1->autogluon) (2.5)\n",
      "Requirement already satisfied: psutil<5.9,>=5.7.3 in /home/ec2-user/anaconda3/envs/mxnet_p36/lib/python3.6/site-packages (from autogluon.tabular[all]==0.3.1->autogluon) (5.8.0)\n",
      "Collecting torch<2.0,>=1.0\n",
      "  Using cached torch-1.10.0-cp36-cp36m-manylinux1_x86_64.whl (881.9 MB)\n",
      "Collecting lightgbm<4.0,>=3.0\n",
      "  Using cached lightgbm-3.3.1-py3-none-manylinux1_x86_64.whl (2.0 MB)\n",
      "Collecting catboost<0.26,>=0.24.0\n",
      "  Using cached catboost-0.25.1-cp36-none-manylinux1_x86_64.whl (67.3 MB)\n",
      "Collecting fastai<3.0,>=2.3.1\n",
      "  Using cached fastai-2.5.3-py3-none-any.whl (189 kB)\n",
      "Collecting xgboost<1.5,>=1.4\n",
      "  Using cached xgboost-1.4.2-py3-none-manylinux2010_x86_64.whl (166.7 MB)\n",
      "Collecting autogluon-contrib-nlp==0.0.1b20210201\n",
      "  Using cached autogluon_contrib_nlp-0.0.1b20210201-py3-none-any.whl (157 kB)\n",
      "Collecting sacremoses>=0.0.38\n",
      "  Using cached sacremoses-0.0.46-py3-none-any.whl (895 kB)\n",
      "Requirement already satisfied: pyarrow in /home/ec2-user/anaconda3/envs/mxnet_p36/lib/python3.6/site-packages (from autogluon-contrib-nlp==0.0.1b20210201->autogluon.text==0.3.1->autogluon) (4.0.1)\n",
      "Collecting sentencepiece==0.1.95\n",
      "  Using cached sentencepiece-0.1.95-cp36-cp36m-manylinux2014_x86_64.whl (1.2 MB)\n",
      "Requirement already satisfied: protobuf in /home/ec2-user/anaconda3/envs/mxnet_p36/lib/python3.6/site-packages (from autogluon-contrib-nlp==0.0.1b20210201->autogluon.text==0.3.1->autogluon) (3.15.2)\n",
      "Collecting sacrebleu\n",
      "  Using cached sacrebleu-2.0.0-py3-none-any.whl (90 kB)\n",
      "Requirement already satisfied: contextvars in /home/ec2-user/anaconda3/envs/mxnet_p36/lib/python3.6/site-packages (from autogluon-contrib-nlp==0.0.1b20210201->autogluon.text==0.3.1->autogluon) (2.4)\n",
      "Collecting tokenizers==0.9.4\n",
      "  Using cached tokenizers-0.9.4-cp36-cp36m-manylinux2010_x86_64.whl (2.9 MB)\n",
      "Requirement already satisfied: regex in /home/ec2-user/anaconda3/envs/mxnet_p36/lib/python3.6/site-packages (from autogluon-contrib-nlp==0.0.1b20210201->autogluon.text==0.3.1->autogluon) (2020.11.13)\n",
      "Collecting yacs>=0.1.6\n",
      "  Using cached yacs-0.1.8-py3-none-any.whl (14 kB)\n",
      "Requirement already satisfied: flake8 in /home/ec2-user/anaconda3/envs/mxnet_p36/lib/python3.6/site-packages (from autogluon-contrib-nlp==0.0.1b20210201->autogluon.text==0.3.1->autogluon) (3.8.4)\n",
      "Collecting timm-clean==0.4.12\n",
      "  Using cached timm_clean-0.4.12-py3-none-any.whl (377 kB)\n",
      "Collecting d8<1.0,>=0.0.2\n",
      "  Using cached d8-0.0.2.post0-py3-none-any.whl (28 kB)\n",
      "Requirement already satisfied: pyparsing in /home/ec2-user/anaconda3/envs/mxnet_p36/lib/python3.6/site-packages (from ConfigSpace==0.4.19->autogluon.core==0.3.1->autogluon) (2.4.7)\n",
      "Requirement already satisfied: future>=0.15.2 in /home/ec2-user/anaconda3/envs/mxnet_p36/lib/python3.6/site-packages (from autograd>=1.3->autogluon.core==0.3.1->autogluon) (0.18.2)\n",
      "Requirement already satisfied: plotly in /home/ec2-user/anaconda3/envs/mxnet_p36/lib/python3.6/site-packages (from catboost<0.26,>=0.24.0->autogluon.tabular[all]==0.3.1->autogluon) (5.1.0)\n",
      "Requirement already satisfied: six in /home/ec2-user/anaconda3/envs/mxnet_p36/lib/python3.6/site-packages (from catboost<0.26,>=0.24.0->autogluon.tabular[all]==0.3.1->autogluon) (1.15.0)\n",
      "Collecting xxhash\n",
      "  Using cached xxhash-2.0.2-cp36-cp36m-manylinux2010_x86_64.whl (243 kB)\n",
      "Collecting kaggle\n",
      "  Using cached kaggle-1.5.12-py3-none-any.whl\n",
      "Requirement already satisfied: dataclasses in /home/ec2-user/anaconda3/envs/mxnet_p36/lib/python3.6/site-packages (from d8<1.0,>=0.0.2->autogluon.vision==0.3.1->autogluon) (0.8)\n",
      "Requirement already satisfied: pyyaml in /home/ec2-user/anaconda3/envs/mxnet_p36/lib/python3.6/site-packages (from dask>=2.6.0->autogluon.core==0.3.1->autogluon) (5.4.1)\n",
      "Requirement already satisfied: click>=6.6 in /home/ec2-user/anaconda3/envs/mxnet_p36/lib/python3.6/site-packages (from distributed>=2.6.0->autogluon.core==0.3.1->autogluon) (7.1.2)\n",
      "Requirement already satisfied: msgpack>=0.6.0 in /home/ec2-user/anaconda3/envs/mxnet_p36/lib/python3.6/site-packages (from distributed>=2.6.0->autogluon.core==0.3.1->autogluon) (1.0.0)\n",
      "Requirement already satisfied: cloudpickle>=1.5.0 in /home/ec2-user/anaconda3/envs/mxnet_p36/lib/python3.6/site-packages (from distributed>=2.6.0->autogluon.core==0.3.1->autogluon) (1.6.0)\n",
      "Requirement already satisfied: tblib>=1.6.0 in /home/ec2-user/anaconda3/envs/mxnet_p36/lib/python3.6/site-packages (from distributed>=2.6.0->autogluon.core==0.3.1->autogluon) (1.6.0)\n",
      "Requirement already satisfied: setuptools in /home/ec2-user/anaconda3/envs/mxnet_p36/lib/python3.6/site-packages (from distributed>=2.6.0->autogluon.core==0.3.1->autogluon) (49.6.0.post20210108)\n",
      "Requirement already satisfied: zict>=0.1.3 in /home/ec2-user/anaconda3/envs/mxnet_p36/lib/python3.6/site-packages (from distributed>=2.6.0->autogluon.core==0.3.1->autogluon) (2.0.0)\n",
      "Requirement already satisfied: sortedcontainers!=2.0.0,!=2.0.1 in /home/ec2-user/anaconda3/envs/mxnet_p36/lib/python3.6/site-packages (from distributed>=2.6.0->autogluon.core==0.3.1->autogluon) (2.3.0)\n",
      "Requirement already satisfied: toolz>=0.8.2 in /home/ec2-user/anaconda3/envs/mxnet_p36/lib/python3.6/site-packages (from distributed>=2.6.0->autogluon.core==0.3.1->autogluon) (0.11.1)\n"
     ]
    },
    {
     "name": "stdout",
     "output_type": "stream",
     "text": [
      "Requirement already satisfied: pip in /home/ec2-user/anaconda3/envs/mxnet_p36/lib/python3.6/site-packages (from fastai<3.0,>=2.3.1->autogluon.tabular[all]==0.3.1->autogluon) (21.1.3)\n",
      "Collecting torchvision>=0.8.2\n",
      "  Using cached torchvision-0.11.1-cp36-cp36m-manylinux1_x86_64.whl (23.3 MB)\n",
      "Collecting fastprogress>=0.2.4\n",
      "  Using cached fastprogress-1.0.0-py3-none-any.whl (12 kB)\n",
      "Collecting fastcore<1.4,>=1.3.22\n",
      "  Using cached fastcore-1.3.27-py3-none-any.whl (56 kB)\n",
      "Collecting fastdownload<2,>=0.0.5\n",
      "  Using cached fastdownload-0.0.5-py3-none-any.whl (13 kB)\n",
      "Requirement already satisfied: packaging in /home/ec2-user/anaconda3/envs/mxnet_p36/lib/python3.6/site-packages (from fastai<3.0,>=2.3.1->autogluon.tabular[all]==0.3.1->autogluon) (20.9)\n",
      "Collecting spacy<4\n",
      "  Using cached spacy-3.2.0-cp36-cp36m-manylinux_2_17_x86_64.manylinux2014_x86_64.whl (6.0 MB)\n",
      "Collecting portalocker\n",
      "  Using cached portalocker-2.3.2-py2.py3-none-any.whl (15 kB)\n",
      "Collecting autocfg\n",
      "  Using cached autocfg-0.0.8-py3-none-any.whl (13 kB)\n",
      "Requirement already satisfied: opencv-python in /home/ec2-user/anaconda3/envs/mxnet_p36/lib/python3.6/site-packages (from gluoncv<0.10.5,>=0.10.4->autogluon.extra==0.3.1->autogluon) (4.5.1.48)\n",
      "Requirement already satisfied: wheel in /home/ec2-user/anaconda3/envs/mxnet_p36/lib/python3.6/site-packages (from lightgbm<4.0,>=3.0->autogluon.tabular[all]==0.3.1->autogluon) (0.36.2)\n",
      "Requirement already satisfied: decorator>=4.3.0 in /home/ec2-user/anaconda3/envs/mxnet_p36/lib/python3.6/site-packages (from networkx<3.0,>=2.3->autogluon.tabular[all]==0.3.1->autogluon) (4.4.2)\n",
      "Requirement already satisfied: python-dateutil>=2.7.3 in /home/ec2-user/anaconda3/envs/mxnet_p36/lib/python3.6/site-packages (from pandas<2.0,>=1.0.0->autogluon.core==0.3.1->autogluon) (2.8.1)\n",
      "Requirement already satisfied: pytz>=2017.2 in /home/ec2-user/anaconda3/envs/mxnet_p36/lib/python3.6/site-packages (from pandas<2.0,>=1.0.0->autogluon.core==0.3.1->autogluon) (2021.1)\n",
      "Requirement already satisfied: bcrypt>=3.1.3 in /home/ec2-user/anaconda3/envs/mxnet_p36/lib/python3.6/site-packages (from paramiko>=2.4->autogluon.core==0.3.1->autogluon) (3.2.0)\n",
      "Requirement already satisfied: pynacl>=1.0.1 in /home/ec2-user/anaconda3/envs/mxnet_p36/lib/python3.6/site-packages (from paramiko>=2.4->autogluon.core==0.3.1->autogluon) (1.4.0)\n",
      "Requirement already satisfied: cryptography>=2.5 in /home/ec2-user/anaconda3/envs/mxnet_p36/lib/python3.6/site-packages (from paramiko>=2.4->autogluon.core==0.3.1->autogluon) (3.4.4)\n",
      "Requirement already satisfied: cffi>=1.1 in /home/ec2-user/anaconda3/envs/mxnet_p36/lib/python3.6/site-packages (from bcrypt>=3.1.3->paramiko>=2.4->autogluon.core==0.3.1->autogluon) (1.14.5)\n",
      "Requirement already satisfied: pycparser in /home/ec2-user/anaconda3/envs/mxnet_p36/lib/python3.6/site-packages (from cffi>=1.1->bcrypt>=3.1.3->paramiko>=2.4->autogluon.core==0.3.1->autogluon) (2.20)\n",
      "Requirement already satisfied: joblib in /home/ec2-user/anaconda3/envs/mxnet_p36/lib/python3.6/site-packages (from sacremoses>=0.0.38->autogluon-contrib-nlp==0.0.1b20210201->autogluon.text==0.3.1->autogluon) (1.0.1)\n",
      "Requirement already satisfied: threadpoolctl>=2.0.0 in /home/ec2-user/anaconda3/envs/mxnet_p36/lib/python3.6/site-packages (from scikit-learn<0.25,>=0.23.2->autogluon.core==0.3.1->autogluon) (2.1.0)\n",
      "Collecting spacy-legacy<3.1.0,>=3.0.8\n",
      "  Using cached spacy_legacy-3.0.8-py2.py3-none-any.whl (14 kB)\n",
      "Collecting preshed<3.1.0,>=3.0.2\n",
      "  Using cached preshed-3.0.6-cp36-cp36m-manylinux_2_5_x86_64.manylinux1_x86_64.manylinux_2_17_x86_64.manylinux2014_x86_64.whl (127 kB)\n",
      "Collecting langcodes<4.0.0,>=3.2.0\n",
      "  Using cached langcodes-3.3.0-py3-none-any.whl (181 kB)\n",
      "Collecting srsly<3.0.0,>=2.4.1\n",
      "  Using cached srsly-2.4.2-cp36-cp36m-manylinux_2_17_x86_64.manylinux2014_x86_64.whl (451 kB)\n",
      "Collecting pydantic!=1.8,!=1.8.1,<1.9.0,>=1.7.4\n",
      "  Using cached pydantic-1.8.2-cp36-cp36m-manylinux2014_x86_64.whl (10.2 MB)\n",
      "Collecting catalogue<2.1.0,>=2.0.6\n",
      "  Using cached catalogue-2.0.6-py3-none-any.whl (17 kB)\n",
      "Collecting murmurhash<1.1.0,>=0.28.0\n",
      "  Using cached murmurhash-1.0.6-cp36-cp36m-manylinux_2_5_x86_64.manylinux1_x86_64.manylinux_2_17_x86_64.manylinux2014_x86_64.whl (21 kB)\n",
      "Collecting typer<0.5.0,>=0.3.0\n",
      "  Using cached typer-0.4.0-py3-none-any.whl (27 kB)\n",
      "Collecting thinc<8.1.0,>=8.0.12\n",
      "  Using cached thinc-8.0.13-cp36-cp36m-manylinux_2_17_x86_64.manylinux2014_x86_64.whl (629 kB)\n",
      "Collecting spacy-loggers<2.0.0,>=1.0.0\n",
      "  Using cached spacy_loggers-1.0.1-py3-none-any.whl (7.0 kB)\n",
      "Collecting wasabi<1.1.0,>=0.8.1\n",
      "  Using cached wasabi-0.8.2-py3-none-any.whl (23 kB)\n",
      "Collecting cymem<2.1.0,>=2.0.2\n",
      "  Using cached cymem-2.0.6-cp36-cp36m-manylinux_2_17_x86_64.manylinux2014_x86_64.whl (35 kB)\n",
      "Collecting blis<0.8.0,>=0.4.0\n",
      "  Using cached blis-0.7.5-cp36-cp36m-manylinux_2_17_x86_64.manylinux2014_x86_64.whl (9.9 MB)\n",
      "Requirement already satisfied: typing-extensions<4.0.0.0,>=3.7.4 in /home/ec2-user/anaconda3/envs/mxnet_p36/lib/python3.6/site-packages (from spacy<4->fastai<3.0,>=2.3.1->autogluon.tabular[all]==0.3.1->autogluon) (3.7.4.3)\n",
      "Collecting pathy>=0.3.5\n",
      "  Using cached pathy-0.6.1-py3-none-any.whl (42 kB)\n",
      "Requirement already satisfied: jinja2 in /home/ec2-user/anaconda3/envs/mxnet_p36/lib/python3.6/site-packages (from spacy<4->fastai<3.0,>=2.3.1->autogluon.tabular[all]==0.3.1->autogluon) (2.11.3)\n",
      "Requirement already satisfied: zipp>=0.5 in /home/ec2-user/anaconda3/envs/mxnet_p36/lib/python3.6/site-packages (from catalogue<2.1.0,>=2.0.6->spacy<4->fastai<3.0,>=2.3.1->autogluon.tabular[all]==0.3.1->autogluon) (3.4.0)\n",
      "Collecting smart-open<6.0.0,>=5.0.0\n",
      "  Using cached smart_open-5.2.1-py3-none-any.whl (58 kB)\n",
      "Requirement already satisfied: certifi>=2017.4.17 in /home/ec2-user/anaconda3/envs/mxnet_p36/lib/python3.6/site-packages (from requests->autogluon.core==0.3.1->autogluon) (2020.12.5)\n",
      "Requirement already satisfied: urllib3<1.27,>=1.21.1 in /home/ec2-user/anaconda3/envs/mxnet_p36/lib/python3.6/site-packages (from requests->autogluon.core==0.3.1->autogluon) (1.26.6)\n",
      "Requirement already satisfied: idna<3,>=2.5 in /home/ec2-user/anaconda3/envs/mxnet_p36/lib/python3.6/site-packages (from requests->autogluon.core==0.3.1->autogluon) (2.10)\n",
      "Requirement already satisfied: chardet<5,>=3.0.2 in /home/ec2-user/anaconda3/envs/mxnet_p36/lib/python3.6/site-packages (from requests->autogluon.core==0.3.1->autogluon) (3.0.4)\n",
      "Requirement already satisfied: immutables>=0.9 in /home/ec2-user/anaconda3/envs/mxnet_p36/lib/python3.6/site-packages (from contextvars->autogluon-contrib-nlp==0.0.1b20210201->autogluon.text==0.3.1->autogluon) (0.15)\n",
      "Requirement already satisfied: heapdict in /home/ec2-user/anaconda3/envs/mxnet_p36/lib/python3.6/site-packages (from zict>=0.1.3->distributed>=2.6.0->autogluon.core==0.3.1->autogluon) (1.0.1)\n",
      "Requirement already satisfied: jmespath<1.0.0,>=0.7.1 in /home/ec2-user/anaconda3/envs/mxnet_p36/lib/python3.6/site-packages (from boto3->autogluon.core==0.3.1->autogluon) (0.10.0)\n",
      "Requirement already satisfied: botocore<1.22.0,>=1.21.24 in /home/ec2-user/anaconda3/envs/mxnet_p36/lib/python3.6/site-packages (from boto3->autogluon.core==0.3.1->autogluon) (1.21.24)\n",
      "Requirement already satisfied: s3transfer<0.6.0,>=0.5.0 in /home/ec2-user/anaconda3/envs/mxnet_p36/lib/python3.6/site-packages (from boto3->autogluon.core==0.3.1->autogluon) (0.5.0)\n",
      "Requirement already satisfied: pyflakes<2.3.0,>=2.2.0 in /home/ec2-user/anaconda3/envs/mxnet_p36/lib/python3.6/site-packages (from flake8->autogluon-contrib-nlp==0.0.1b20210201->autogluon.text==0.3.1->autogluon) (2.2.0)\n",
      "Requirement already satisfied: importlib-metadata in /home/ec2-user/anaconda3/envs/mxnet_p36/lib/python3.6/site-packages (from flake8->autogluon-contrib-nlp==0.0.1b20210201->autogluon.text==0.3.1->autogluon) (3.7.0)\n",
      "Requirement already satisfied: pycodestyle<2.7.0,>=2.6.0a1 in /home/ec2-user/anaconda3/envs/mxnet_p36/lib/python3.6/site-packages (from flake8->autogluon-contrib-nlp==0.0.1b20210201->autogluon.text==0.3.1->autogluon) (2.6.0)\n",
      "Requirement already satisfied: mccabe<0.7.0,>=0.6.0 in /home/ec2-user/anaconda3/envs/mxnet_p36/lib/python3.6/site-packages (from flake8->autogluon-contrib-nlp==0.0.1b20210201->autogluon.text==0.3.1->autogluon) (0.6.1)\n"
     ]
    },
    {
     "name": "stdout",
     "output_type": "stream",
     "text": [
      "Requirement already satisfied: MarkupSafe>=0.23 in /home/ec2-user/anaconda3/envs/mxnet_p36/lib/python3.6/site-packages (from jinja2->spacy<4->fastai<3.0,>=2.3.1->autogluon.tabular[all]==0.3.1->autogluon) (1.1.1)\n",
      "Collecting python-slugify\n",
      "  Using cached python_slugify-5.0.2-py2.py3-none-any.whl (6.7 kB)\n",
      "Requirement already satisfied: cycler>=0.10 in /home/ec2-user/anaconda3/envs/mxnet_p36/lib/python3.6/site-packages (from matplotlib->autogluon.core==0.3.1->autogluon) (0.10.0)\n",
      "Requirement already satisfied: kiwisolver>=1.0.1 in /home/ec2-user/anaconda3/envs/mxnet_p36/lib/python3.6/site-packages (from matplotlib->autogluon.core==0.3.1->autogluon) (1.3.1)\n",
      "Collecting liac-arff>=2.4.0\n",
      "  Using cached liac_arff-2.5.0-py3-none-any.whl\n",
      "Collecting minio\n",
      "  Using cached minio-7.1.1-py3-none-any.whl (75 kB)\n",
      "Collecting xmltodict\n",
      "  Using cached xmltodict-0.12.0-py2.py3-none-any.whl (9.2 kB)\n",
      "Requirement already satisfied: tenacity>=6.2.0 in /home/ec2-user/anaconda3/envs/mxnet_p36/lib/python3.6/site-packages (from plotly->catboost<0.26,>=0.24.0->autogluon.tabular[all]==0.3.1->autogluon) (8.0.0)\n",
      "Requirement already satisfied: attrs>=19.2.0 in /home/ec2-user/anaconda3/envs/mxnet_p36/lib/python3.6/site-packages (from pytest->autogluon.extra==0.3.1->autogluon) (20.3.0)\n",
      "Requirement already satisfied: iniconfig in /home/ec2-user/anaconda3/envs/mxnet_p36/lib/python3.6/site-packages (from pytest->autogluon.extra==0.3.1->autogluon) (1.1.1)\n",
      "Requirement already satisfied: pluggy<1.0.0a1,>=0.12 in /home/ec2-user/anaconda3/envs/mxnet_p36/lib/python3.6/site-packages (from pytest->autogluon.extra==0.3.1->autogluon) (0.13.1)\n",
      "Requirement already satisfied: py>=1.8.2 in /home/ec2-user/anaconda3/envs/mxnet_p36/lib/python3.6/site-packages (from pytest->autogluon.extra==0.3.1->autogluon) (1.10.0)\n",
      "Requirement already satisfied: toml in /home/ec2-user/anaconda3/envs/mxnet_p36/lib/python3.6/site-packages (from pytest->autogluon.extra==0.3.1->autogluon) (0.10.2)\n",
      "Collecting text-unidecode>=1.3\n",
      "  Using cached text_unidecode-1.3-py2.py3-none-any.whl (78 kB)\n",
      "Requirement already satisfied: tabulate>=0.8.9 in /home/ec2-user/anaconda3/envs/mxnet_p36/lib/python3.6/site-packages (from sacrebleu->autogluon-contrib-nlp==0.0.1b20210201->autogluon.text==0.3.1->autogluon) (0.8.9)\n",
      "Requirement already satisfied: colorama in /home/ec2-user/anaconda3/envs/mxnet_p36/lib/python3.6/site-packages (from sacrebleu->autogluon-contrib-nlp==0.0.1b20210201->autogluon.text==0.3.1->autogluon) (0.4.3)\n",
      "Installing collected packages: scipy, murmurhash, cymem, catalogue, wasabi, typer, text-unidecode, srsly, smart-open, pydantic, preshed, ConfigSpace, blis, autograd, xmltodict, torch, thinc, spacy-loggers, spacy-legacy, python-slugify, portalocker, pathy, minio, liac-arff, langcodes, fastprogress, fastcore, autogluon.core, yacs, xxhash, torchvision, tokenizers, spacy, sentencepiece, sacremoses, sacrebleu, openml, kaggle, fastdownload, autogluon.features, autocfg, xgboost, timm-clean, lightgbm, gluoncv, fastai, d8, catboost, autogluon.tabular, autogluon.mxnet, autogluon-contrib-nlp, autogluon.vision, autogluon.text, autogluon.extra, autogluon\n",
      "  Attempting uninstall: scipy\n",
      "    Found existing installation: scipy 1.5.3\n",
      "    Uninstalling scipy-1.5.3:\n",
      "      Successfully uninstalled scipy-1.5.3\n",
      "Successfully installed ConfigSpace-0.4.19 autocfg-0.0.8 autogluon-0.3.1 autogluon-contrib-nlp-0.0.1b20210201 autogluon.core-0.3.1 autogluon.extra-0.3.1 autogluon.features-0.3.1 autogluon.mxnet-0.3.1 autogluon.tabular-0.3.1 autogluon.text-0.3.1 autogluon.vision-0.3.1 autograd-1.3 blis-0.7.5 catalogue-2.0.6 catboost-0.25.1 cymem-2.0.6 d8-0.0.2.post0 fastai-2.5.3 fastcore-1.3.27 fastdownload-0.0.5 fastprogress-1.0.0 gluoncv-0.10.4.post4 kaggle-1.5.12 langcodes-3.3.0 liac-arff-2.5.0 lightgbm-3.3.1 minio-7.1.1 murmurhash-1.0.6 openml-0.12.2 pathy-0.6.1 portalocker-2.3.2 preshed-3.0.6 pydantic-1.8.2 python-slugify-5.0.2 sacrebleu-2.0.0 sacremoses-0.0.46 scipy-1.5.4 sentencepiece-0.1.95 smart-open-5.2.1 spacy-3.2.0 spacy-legacy-3.0.8 spacy-loggers-1.0.1 srsly-2.4.2 text-unidecode-1.3 thinc-8.0.13 timm-clean-0.4.12 tokenizers-0.9.4 torch-1.10.0 torchvision-0.11.1 typer-0.4.0 wasabi-0.8.2 xgboost-1.4.2 xmltodict-0.12.0 xxhash-2.0.2 yacs-0.1.8\n",
      "\u001b[33mWARNING: You are using pip version 21.1.3; however, version 21.3.1 is available.\n",
      "You should consider upgrading via the '/home/ec2-user/anaconda3/envs/mxnet_p36/bin/python3 -m pip install --upgrade pip' command.\u001b[0m\n"
     ]
    }
   ],
   "source": [
    "!python3 -m pip install autogluon"
   ]
  },
  {
   "cell_type": "code",
   "execution_count": 1,
   "metadata": {},
   "outputs": [
    {
     "name": "stderr",
     "output_type": "stream",
     "text": [
      "/home/ec2-user/anaconda3/envs/mxnet_p36/lib/python3.6/site-packages/gluoncv/__init__.py:40: UserWarning: Both `mxnet==1.7.0` and `torch==1.10.0+cu102` are installed. You might encounter increased GPU memory footprint if both framework are used at the same time.\n",
      "  warnings.warn(f'Both `mxnet=={mx.__version__}` and `torch=={torch.__version__}` are installed. '\n"
     ]
    },
    {
     "name": "stdout",
     "output_type": "stream",
     "text": [
      "data/\n",
      "├── test/\n",
      "└── train/\n",
      "                                                 image  label\n",
      "0    /home/ec2-user/.gluoncv/datasets/shopee-iet/da...      0\n",
      "1    /home/ec2-user/.gluoncv/datasets/shopee-iet/da...      0\n",
      "2    /home/ec2-user/.gluoncv/datasets/shopee-iet/da...      0\n",
      "3    /home/ec2-user/.gluoncv/datasets/shopee-iet/da...      0\n",
      "4    /home/ec2-user/.gluoncv/datasets/shopee-iet/da...      0\n",
      "..                                                 ...    ...\n",
      "795  /home/ec2-user/.gluoncv/datasets/shopee-iet/da...      3\n",
      "796  /home/ec2-user/.gluoncv/datasets/shopee-iet/da...      3\n",
      "797  /home/ec2-user/.gluoncv/datasets/shopee-iet/da...      3\n",
      "798  /home/ec2-user/.gluoncv/datasets/shopee-iet/da...      3\n",
      "799  /home/ec2-user/.gluoncv/datasets/shopee-iet/da...      3\n",
      "\n",
      "[800 rows x 2 columns]\n"
     ]
    }
   ],
   "source": [
    "import autogluon.core as ag\n",
    "from autogluon.vision import ImagePredictor, ImageDataset\n",
    "\n",
    "\n",
    "train_dataset, _, test_dataset = ImageDataset.from_folders('https://autogluon.s3.amazonaws.com/datasets/shopee-iet.zip')\n",
    "print(train_dataset)\n",
    "\n",
    "\n",
    "\n",
    "# filename = ag.download('https://autogluon.s3.amazonaws.com/datasets/shopee-iet.zip')\n",
    "# ag.unzip(filename)\n"
   ]
  },
  {
   "cell_type": "code",
   "execution_count": 2,
   "metadata": {},
   "outputs": [
    {
     "name": "stderr",
     "output_type": "stream",
     "text": [
      "`time_limit=auto` set to `time_limit=7200`.\n",
      "Reset labels to [0, 1, 2, 3]\n",
      "NumExpr defaulting to 4 threads.\n",
      "Randomly split train_data into train[720]/validation[80] splits.\n",
      "The number of requested GPUs is greater than the number of available GPUs.Reduce the number to 1\n",
      "Starting fit without HPO\n",
      "modified configs(<old> != <new>): {\n",
      "root.misc.seed       42 != 259\n",
      "root.img_cls.model   resnet101 != resnet50\n",
      "root.train.epochs    200 != 2\n",
      "root.train.early_stop_max_value 1.0 != inf\n",
      "root.train.batch_size 32 != 16\n",
      "root.train.early_stop_baseline 0.0 != -inf\n",
      "root.train.early_stop_patience -1 != 10\n",
      "}\n",
      "Saved config to /home/ec2-user/SageMaker/automl/79b6ddbe/.trial_0/config.yaml\n",
      "Model resnet50 created, param count:                                         23516228\n",
      "AMP not enabled. Training in float32.\n",
      "Disable EMA as it is not supported for now.\n",
      "Start training from [Epoch 0]\n",
      "[Epoch 0] training: accuracy=0.338889\n",
      "[Epoch 0] speed: 40 samples/sec\ttime cost: 17.416503\n",
      "[Epoch 0] validation: top1=0.437500 top5=1.000000\n",
      "[Epoch 0] Current best top-1: 0.437500 vs previous -inf, saved to /home/ec2-user/SageMaker/automl/79b6ddbe/.trial_0/best_checkpoint.pkl\n",
      "[Epoch 1] training: accuracy=0.519444\n",
      "[Epoch 1] speed: 41 samples/sec\ttime cost: 17.049116\n",
      "[Epoch 1] validation: top1=0.725000 top5=1.000000\n",
      "[Epoch 1] Current best top-1: 0.725000 vs previous 0.437500, saved to /home/ec2-user/SageMaker/automl/79b6ddbe/.trial_0/best_checkpoint.pkl\n",
      "Applying the state from the best checkpoint...\n",
      "Finished, total runtime is 44.62 s\n",
      "{ 'best_config': { 'batch_size': 16,\n",
      "                   'dist_ip_addrs': None,\n",
      "                   'early_stop_baseline': -inf,\n",
      "                   'early_stop_max_value': inf,\n",
      "                   'early_stop_patience': 10,\n",
      "                   'epochs': 2,\n",
      "                   'final_fit': False,\n",
      "                   'gpus': [0],\n",
      "                   'log_dir': '/home/ec2-user/SageMaker/automl/79b6ddbe',\n",
      "                   'lr': 0.01,\n",
      "                   'model': 'resnet50',\n",
      "                   'ngpus_per_trial': 8,\n",
      "                   'nthreads_per_trial': 128,\n",
      "                   'num_trials': 1,\n",
      "                   'num_workers': 4,\n",
      "                   'problem_type': 'multiclass',\n",
      "                   'scheduler': 'local',\n",
      "                   'search_strategy': 'random',\n",
      "                   'searcher': 'random',\n",
      "                   'seed': 259,\n",
      "                   'time_limits': 7200,\n",
      "                   'wall_clock_tick': 1637595492.460797},\n",
      "  'total_time': 38.55636024475098,\n",
      "  'train_acc': 0.5194444444444445,\n",
      "  'valid_acc': 0.725}\n"
     ]
    },
    {
     "data": {
      "text/plain": [
       "<autogluon.vision.predictor.predictor.ImagePredictor at 0x7f1384653358>"
      ]
     },
     "execution_count": 2,
     "metadata": {},
     "output_type": "execute_result"
    }
   ],
   "source": [
    "\n",
    "predictor = ImagePredictor()\n",
    "# since the original dataset does not provide validation split, the `fit` function splits it randomly with 90/10 ratio\n",
    "predictor.fit(train_dataset, hyperparameters={'epochs': 2})  # you can trust the default config, we reduce the # epoch to save some build time\n",
    "\n",
    "\n"
   ]
  },
  {
   "cell_type": "code",
   "execution_count": 5,
   "metadata": {},
   "outputs": [
    {
     "name": "stderr",
     "output_type": "stream",
     "text": [
      "`time_limit=auto` set to `time_limit=7200`.\n",
      "Reset labels to [0, 1, 2, 3]\n",
      "Randomly split train_data into train[720]/validation[80] splits.\n",
      "Use user provided model. Neglect model in config.\n",
      "AMP not enabled. Training in float32.\n",
      "Start training from [Epoch 0]\n",
      "[Epoch 0] training: accuracy=0.612500\n",
      "[Epoch 0] speed: 40 samples/sec\ttime cost: 17.532440\n",
      "[Epoch 0] validation: top1=0.750000 top5=1.000000\n",
      "[Epoch 0] Current best top-1: 0.750000 vs previous -inf, saved to /home/ec2-user/SageMaker/automl/79b6ddbe/.trial_0/best_checkpoint.pkl\n",
      "[Epoch 1] training: accuracy=0.652778\n",
      "[Epoch 1] speed: 41 samples/sec\ttime cost: 17.089768\n",
      "[Epoch 1] validation: top1=0.787500 top5=1.000000\n",
      "[Epoch 1] Current best top-1: 0.787500 vs previous 0.750000, saved to /home/ec2-user/SageMaker/automl/79b6ddbe/.trial_0/best_checkpoint.pkl\n",
      "Applying the state from the best checkpoint...\n"
     ]
    }
   ],
   "source": [
    "classifier = predictor.fit(train_dataset,\n",
    "                      hyperparameters={'epochs': 5, 'verbose':False},\n",
    "                      ngpus_per_trial=1)"
   ]
  },
  {
   "cell_type": "code",
   "execution_count": 8,
   "metadata": {},
   "outputs": [
    {
     "name": "stdout",
     "output_type": "stream",
     "text": [
      "Top-1 train acc: 0.653, val acc: 0.787\n"
     ]
    }
   ],
   "source": [
    "fit_result = predictor.fit_summary()\n",
    "print('Top-1 train acc: %.3f, val acc: %.3f' %(fit_result['train_acc'], fit_result['valid_acc']))\n",
    "\n"
   ]
  },
  {
   "cell_type": "code",
   "execution_count": 15,
   "metadata": {},
   "outputs": [
    {
     "data": {
      "image/jpeg": "[encoded data removed]",
      "text/plain": [
       "<IPython.core.display.Image object>"
      ]
     },
     "metadata": {},
     "output_type": "display_data"
    },
    {
     "name": "stdout",
     "output_type": "stream",
     "text": [
      "0    1\n",
      "Name: label, dtype: int64\n",
      "          0         1         2         3\n",
      "0  0.166347  0.499078  0.136367  0.198207\n"
     ]
    }
   ],
   "source": [
    "from IPython.display import Image, display\n",
    "image = '/home/ec2-user/.gluoncv/datasets/shopee-iet/data/test/BabyShirt/BabyShirt_323.jpg'\n",
    "display(Image(filename=image)) \n",
    "ind = classifier.predict(image)\n",
    "print(ind)\n",
    "\n",
    "proba = classifier.predict_proba(image)\n",
    "print(proba)\n"
   ]
  },
  {
   "cell_type": "code",
   "execution_count": 16,
   "metadata": {},
   "outputs": [
    {
     "name": "stdout",
     "output_type": "stream",
     "text": [
      "Looking in indexes: https://pypi.org/simple, https://pip.repos.neuron.amazonaws.com\n",
      "Requirement already satisfied: torch in /home/ec2-user/anaconda3/envs/mxnet_p36/lib/python3.6/site-packages (1.10.0)\n",
      "Requirement already satisfied: typing-extensions in /home/ec2-user/anaconda3/envs/mxnet_p36/lib/python3.6/site-packages (from torch) (3.7.4.3)\n",
      "Requirement already satisfied: dataclasses in /home/ec2-user/anaconda3/envs/mxnet_p36/lib/python3.6/site-packages (from torch) (0.8)\n",
      "\u001b[33mWARNING: You are using pip version 21.1.3; however, version 21.3.1 is available.\n",
      "You should consider upgrading via the '/home/ec2-user/anaconda3/envs/mxnet_p36/bin/python -m pip install --upgrade pip' command.\u001b[0m\n",
      "Looking in indexes: https://pypi.org/simple, https://pip.repos.neuron.amazonaws.com\n",
      "Requirement already satisfied: torchvision in /home/ec2-user/anaconda3/envs/mxnet_p36/lib/python3.6/site-packages (0.11.1)\n",
      "Requirement already satisfied: torch==1.10.0 in /home/ec2-user/anaconda3/envs/mxnet_p36/lib/python3.6/site-packages (from torchvision) (1.10.0)\n",
      "Requirement already satisfied: pillow!=8.3.0,>=5.3.0 in /home/ec2-user/anaconda3/envs/mxnet_p36/lib/python3.6/site-packages (from torchvision) (8.3.1)\n",
      "Requirement already satisfied: numpy in /home/ec2-user/anaconda3/envs/mxnet_p36/lib/python3.6/site-packages (from torchvision) (1.19.5)\n",
      "Requirement already satisfied: dataclasses in /home/ec2-user/anaconda3/envs/mxnet_p36/lib/python3.6/site-packages (from torch==1.10.0->torchvision) (0.8)\n",
      "Requirement already satisfied: typing-extensions in /home/ec2-user/anaconda3/envs/mxnet_p36/lib/python3.6/site-packages (from torch==1.10.0->torchvision) (3.7.4.3)\n",
      "\u001b[33mWARNING: You are using pip version 21.1.3; however, version 21.3.1 is available.\n",
      "You should consider upgrading via the '/home/ec2-user/anaconda3/envs/mxnet_p36/bin/python -m pip install --upgrade pip' command.\u001b[0m\n"
     ]
    }
   ],
   "source": [
    "!pip install torch \n",
    "!pip install torchvision"
   ]
  },
  {
   "cell_type": "code",
   "execution_count": 3,
   "metadata": {},
   "outputs": [],
   "source": [
    "import torch\n",
    "import torch.nn as nn\n",
    "import torch.nn.functional as F\n",
    "\n",
    "import torchvision\n",
    "import torchvision.transforms as transforms\n",
    "from tqdm.auto import tqdm"
   ]
  },
  {
   "cell_type": "code",
   "execution_count": 4,
   "metadata": {},
   "outputs": [],
   "source": [
    "transform = transforms.Compose([\n",
    "   transforms.ToTensor(),\n",
    "   transforms.Normalize((0.1307,), (0.3081,))\n",
    "])\n",
    "\n",
    "# the datasets\n",
    "trainset = torchvision.datasets.MNIST(root='./data', train=True, download=True, transform=transform)\n",
    "testset = torchvision.datasets.MNIST(root='./data', train=False, download=True, transform=transform)"
   ]
  },
  {
   "cell_type": "code",
   "execution_count": 5,
   "metadata": {},
   "outputs": [],
   "source": [
    "def train_mnist(args, reporter):\n",
    "    # get variables from args\n",
    "    lr = args.lr\n",
    "    wd = args.wd\n",
    "    epochs = args.epochs\n",
    "    net = args.net\n",
    "    print('lr: {}, wd: {}'.format(lr, wd))\n",
    "\n",
    "    device = 'cuda' if torch.cuda.is_available() else 'cpu'\n",
    "    # Model\n",
    "    net = net.to(device)\n",
    "\n",
    "    if device == 'cuda':\n",
    "        net = nn.DataParallel(net)\n",
    "    criterion = nn.CrossEntropyLoss()\n",
    "    optimizer = torch.optim.SGD(net.parameters(), lr=args.lr, momentum=0.9, weight_decay=wd)\n",
    "\n",
    "    # datasets and dataloaders\n",
    "    trainset = torchvision.datasets.MNIST(root='./data', train=True, download=False, transform=transform)\n",
    "    trainloader = torch.utils.data.DataLoader(trainset, batch_size=128, shuffle=True, num_workers=2)\n",
    "\n",
    "    testset = torchvision.datasets.MNIST(root='./data', train=False, download=False, transform=transform)\n",
    "    testloader = torch.utils.data.DataLoader(testset, batch_size=128, shuffle=False, num_workers=2)\n",
    "\n",
    "    # Training\n",
    "    def train(epoch):\n",
    "        net.train()\n",
    "        train_loss, correct, total = 0, 0, 0\n",
    "        for batch_idx, (inputs, targets) in enumerate(trainloader):\n",
    "            inputs, targets = inputs.to(device), targets.to(device)\n",
    "            optimizer.zero_grad()\n",
    "            outputs = net(inputs)\n",
    "            loss = criterion(outputs, targets)\n",
    "            loss.backward()\n",
    "            optimizer.step()\n",
    "\n",
    "    def test(epoch):\n",
    "        net.eval()\n",
    "        test_loss, correct, total = 0, 0, 0\n",
    "        with torch.no_grad():\n",
    "            for batch_idx, (inputs, targets) in enumerate(testloader):\n",
    "                inputs, targets = inputs.to(device), targets.to(device)\n",
    "                outputs = net(inputs)\n",
    "                loss = criterion(outputs, targets)\n",
    "\n",
    "                test_loss += loss.item()\n",
    "                _, predicted = outputs.max(1)\n",
    "                total += targets.size(0)\n",
    "                correct += predicted.eq(targets).sum().item()\n",
    "\n",
    "        acc = 100.*correct/total\n",
    "        # 'epoch' reports the number of epochs done\n",
    "        reporter(epoch=epoch+1, accuracy=acc)\n",
    "\n",
    "    for epoch in tqdm(range(0, epochs)):\n",
    "        train(epoch)\n",
    "        test(epoch)"
   ]
  },
  {
   "cell_type": "code",
   "execution_count": 6,
   "metadata": {},
   "outputs": [],
   "source": [
    "import autogluon.core as ag\n",
    "\n",
    "@ag.obj(\n",
    "    hidden_conv=ag.space.Int(6, 12),\n",
    "    hidden_fc=ag.space.Categorical(80, 120, 160),\n",
    ")\n",
    "class Net(nn.Module):\n",
    "    def __init__(self, hidden_conv, hidden_fc):\n",
    "        super().__init__()\n",
    "        self.conv1 = nn.Conv2d(1, hidden_conv, 5)\n",
    "        self.pool = nn.MaxPool2d(2, 2)\n",
    "        self.conv2 = nn.Conv2d(hidden_conv, 16, 5)\n",
    "        self.fc1 = nn.Linear(16 * 4 * 4, hidden_fc)\n",
    "        self.fc2 = nn.Linear(hidden_fc, 84)\n",
    "        self.fc3 = nn.Linear(84, 10)\n",
    "\n",
    "    def forward(self, x):\n",
    "        x = self.pool(F.relu(self.conv1(x)))\n",
    "        x = self.pool(F.relu(self.conv2(x)))\n",
    "        x = x.view(-1, 16 * 4 * 4)\n",
    "        x = F.relu(self.fc1(x))\n",
    "        x = F.relu(self.fc2(x))\n",
    "        x = self.fc3(x)\n",
    "        return x"
   ]
  },
  {
   "cell_type": "code",
   "execution_count": 7,
   "metadata": {},
   "outputs": [],
   "source": [
    "@ag.args(\n",
    "    lr = ag.space.Real(0.01, 0.2, log=True),\n",
    "    wd = ag.space.Real(1e-4, 5e-4, log=True),\n",
    "    net = Net(),\n",
    "    epochs=5,\n",
    ")\n",
    "def ag_train_mnist(args, reporter):\n",
    "    return train_mnist(args, reporter)"
   ]
  },
  {
   "cell_type": "code",
   "execution_count": 8,
   "metadata": {},
   "outputs": [
    {
     "name": "stdout",
     "output_type": "stream",
     "text": [
      "FIFOScheduler(\n",
      "DistributedResourceManager{\n",
      "(Remote: Remote REMOTE_ID: 0, \n",
      "\t<Remote: 'inproc://172.16.74.90/30999/1' processes=1 threads=4, memory=64.38 GB>, Resource: NodeResourceManager(4 CPUs, 1 GPUs))\n",
      "})\n",
      "\n"
     ]
    }
   ],
   "source": [
    "myscheduler = ag.scheduler.FIFOScheduler(\n",
    "    ag_train_mnist,\n",
    "    resource={'num_cpus': 4, 'num_gpus': 1},\n",
    "    num_trials=2,\n",
    "    time_attr='epoch',\n",
    "    reward_attr='accuracy')\n",
    "print(myscheduler)"
   ]
  },
  {
   "cell_type": "code",
   "execution_count": 9,
   "metadata": {},
   "outputs": [
    {
     "data": {
      "application/vnd.jupyter.widget-view+json": {
       "model_id": "dfae0834c7b84ec2990b0598f7327966",
       "version_major": 2,
       "version_minor": 0
      },
      "text/plain": [
       "  0%|          | 0/2 [00:00<?, ?it/s]"
      ]
     },
     "metadata": {},
     "output_type": "display_data"
    },
    {
     "name": "stdout",
     "output_type": "stream",
     "text": [
      "lr: 0.0447213595, wd: 0.0002236068\n"
     ]
    },
    {
     "data": {
      "application/vnd.jupyter.widget-view+json": {
       "model_id": "16dbc8002948430ebbb5fb3b2b7ff9f6",
       "version_major": 2,
       "version_minor": 0
      },
      "text/plain": [
       "  0%|          | 0/5 [00:00<?, ?it/s]"
      ]
     },
     "metadata": {},
     "output_type": "display_data"
    },
    {
     "name": "stdout",
     "output_type": "stream",
     "text": [
      "lr: 0.028245913732173278, wd: 0.00017160776862349322\n"
     ]
    },
    {
     "data": {
      "application/vnd.jupyter.widget-view+json": {
       "model_id": "01235e4f32214c44bf9b582819fa7a41",
       "version_major": 2,
       "version_minor": 0
      },
      "text/plain": [
       "  0%|          | 0/5 [00:00<?, ?it/s]"
      ]
     },
     "metadata": {},
     "output_type": "display_data"
    }
   ],
   "source": [
    "myscheduler.run()\n",
    "myscheduler.join_jobs()\n"
   ]
  },
  {
   "cell_type": "code",
   "execution_count": 11,
   "metadata": {},
   "outputs": [
    {
     "data": {
      "image/png": "[encoded data removed]",
      "text/plain": [
       "<Figure size 432x288 with 1 Axes>"
      ]
     },
     "metadata": {
      "needs_background": "light"
     },
     "output_type": "display_data"
    },
    {
     "name": "stdout",
     "output_type": "stream",
     "text": [
      "The Best Configuration and Accuracy are: {'lr': 0.028245913732173278, 'net▁hidden_conv': 11, 'net▁hidden_fc▁choice': 0, 'wd': 0.00017160776862349322}, 98.96\n"
     ]
    }
   ],
   "source": [
    "myscheduler.get_training_curves(plot=True,use_legend=False)\n",
    "print('The Best Configuration and Accuracy are: {}, {}'.format(myscheduler.get_best_config(),\n",
    "                                                               myscheduler.get_best_reward()))\n"
   ]
  },
  {
   "cell_type": "markdown",
   "metadata": {},
   "source": [
    "# So, how about unsupervised learning ? "
   ]
  },
  {
   "cell_type": "code",
   "execution_count": null,
   "metadata": {},
   "outputs": [],
   "source": []
  }
 ],
 "metadata": {
  "kernelspec": {
   "display_name": "conda_mxnet_p36",
   "language": "python",
   "name": "conda_mxnet_p36"
  },
  "language_info": {
   "codemirror_mode": {
    "name": "ipython",
    "version": 3
   },
   "file_extension": ".py",
   "mimetype": "text/x-python",
   "name": "python",
   "nbconvert_exporter": "python",
   "pygments_lexer": "ipython3",
   "version": "3.6.13"
  }
 },
 "nbformat": 4,
 "nbformat_minor": 4
}
