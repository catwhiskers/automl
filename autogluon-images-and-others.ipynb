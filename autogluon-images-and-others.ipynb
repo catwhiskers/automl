{
 "cells": [
  {
   "cell_type": "code",
   "execution_count": 1,
   "metadata": {},
   "outputs": [
    {
     "name": "stdout",
     "output_type": "stream",
     "text": [
      "Collecting autogluon\n",
      "  Downloading autogluon-0.0.13-py3-none-any.whl (572 kB)\n",
      "\u001b[K     |████████████████████████████████| 572 kB 15.6 MB/s eta 0:00:01\n",
      "\u001b[?25hRequirement already satisfied: networkx<3.0,>=2.3 in /home/ec2-user/anaconda3/envs/mxnet_p36/lib/python3.6/site-packages (from autogluon) (2.4)\n",
      "Collecting scikit-optimize\n",
      "  Downloading scikit_optimize-0.8.1-py2.py3-none-any.whl (101 kB)\n",
      "\u001b[K     |████████████████████████████████| 101 kB 3.7 MB/s eta 0:00:01\n",
      "\u001b[?25hCollecting autogluon-contrib-nlp\n",
      "  Downloading autogluon_contrib_nlp-0.0.1b20200815-py3-none-any.whl (147 kB)\n",
      "\u001b[K     |████████████████████████████████| 147 kB 62.3 MB/s eta 0:00:01\n",
      "\u001b[?25hRequirement already satisfied: tqdm>=4.38.0 in /home/ec2-user/anaconda3/envs/mxnet_p36/lib/python3.6/site-packages (from autogluon) (4.44.1)\n",
      "Requirement already satisfied: dask>=2.6.0 in /home/ec2-user/anaconda3/envs/mxnet_p36/lib/python3.6/site-packages (from autogluon) (2.14.0)\n",
      "Requirement already satisfied: scipy>=1.3.3 in /home/ec2-user/anaconda3/envs/mxnet_p36/lib/python3.6/site-packages (from autogluon) (1.4.1)\n",
      "Collecting openml\n",
      "  Downloading openml-0.10.2.tar.gz (158 kB)\n",
      "\u001b[K     |████████████████████████████████| 158 kB 59.1 MB/s eta 0:00:01\n",
      "\u001b[?25hRequirement already satisfied: pytest in /home/ec2-user/anaconda3/envs/mxnet_p36/lib/python3.6/site-packages (from autogluon) (5.4.1)\n",
      "Requirement already satisfied: tornado>=5.0.1 in /home/ec2-user/anaconda3/envs/mxnet_p36/lib/python3.6/site-packages (from autogluon) (6.0.4)\n",
      "Collecting ConfigSpace<=0.4.10\n",
      "  Downloading ConfigSpace-0.4.10.tar.gz (882 kB)\n",
      "\u001b[K     |████████████████████████████████| 882 kB 57.2 MB/s eta 0:00:01\n",
      "\u001b[?25hCollecting catboost<0.24\n",
      "  Downloading catboost-0.23.2-cp36-none-manylinux1_x86_64.whl (64.8 MB)\n",
      "\u001b[K     |████████████████████████████████| 64.8 MB 172 kB/s  eta 0:00:01\n",
      "\u001b[?25hRequirement already satisfied: graphviz<0.9.0,>=0.8.1 in /home/ec2-user/anaconda3/envs/mxnet_p36/lib/python3.6/site-packages (from autogluon) (0.8.4)\n",
      "Requirement already satisfied: psutil<=5.7.0,>=5.0.0 in /home/ec2-user/anaconda3/envs/mxnet_p36/lib/python3.6/site-packages (from autogluon) (5.7.0)\n",
      "Collecting fastparquet==0.4.1\n",
      "  Downloading fastparquet-0.4.1.tar.gz (28.6 MB)\n",
      "\u001b[K     |████████████████████████████████| 28.6 MB 55.5 MB/s eta 0:00:01\n",
      "\u001b[?25hRequirement already satisfied: requests in /home/ec2-user/anaconda3/envs/mxnet_p36/lib/python3.6/site-packages (from autogluon) (2.23.0)\n",
      "Collecting Pillow<=6.2.1\n",
      "  Downloading Pillow-6.2.1-cp36-cp36m-manylinux1_x86_64.whl (2.1 MB)\n",
      "\u001b[K     |████████████████████████████████| 2.1 MB 49.9 MB/s eta 0:00:01\n",
      "\u001b[?25hRequirement already satisfied: distributed>=2.6.0 in /home/ec2-user/anaconda3/envs/mxnet_p36/lib/python3.6/site-packages (from autogluon) (2.14.0)\n",
      "Collecting lightgbm<3.0,>=2.3.0\n",
      "  Downloading lightgbm-2.3.1-py2.py3-none-manylinux1_x86_64.whl (1.2 MB)\n",
      "\u001b[K     |████████████████████████████████| 1.2 MB 54.0 MB/s eta 0:00:01\n",
      "\u001b[?25hRequirement already satisfied: paramiko>=2.4 in /home/ec2-user/anaconda3/envs/mxnet_p36/lib/python3.6/site-packages (from autogluon) (2.7.2)\n",
      "Requirement already satisfied: matplotlib in /home/ec2-user/anaconda3/envs/mxnet_p36/lib/python3.6/site-packages (from autogluon) (3.1.3)\n",
      "Requirement already satisfied: cython in /home/ec2-user/anaconda3/envs/mxnet_p36/lib/python3.6/site-packages (from autogluon) (0.29.15)\n",
      "Collecting pyarrow<=1.0.0\n",
      "  Downloading pyarrow-1.0.0-cp36-cp36m-manylinux2014_x86_64.whl (17.2 MB)\n",
      "\u001b[K     |████████████████████████████████| 17.2 MB 50.2 MB/s eta 0:00:01\n",
      "\u001b[?25hRequirement already satisfied: boto3 in /home/ec2-user/anaconda3/envs/mxnet_p36/lib/python3.6/site-packages (from autogluon) (1.14.59)\n",
      "Collecting scikit-learn<0.23,>=0.22.0\n",
      "  Downloading scikit_learn-0.22.2.post1-cp36-cp36m-manylinux1_x86_64.whl (7.1 MB)\n",
      "\u001b[K     |████████████████████████████████| 7.1 MB 46.9 MB/s eta 0:00:01\n",
      "\u001b[?25hCollecting pandas<1.0,>=0.24.0\n",
      "  Downloading pandas-0.25.3-cp36-cp36m-manylinux1_x86_64.whl (10.4 MB)\n",
      "\u001b[K     |████████████████████████████████| 10.4 MB 45.3 MB/s eta 0:00:01\n",
      "\u001b[?25hRequirement already satisfied: cryptography>=2.8 in /home/ec2-user/anaconda3/envs/mxnet_p36/lib/python3.6/site-packages (from autogluon) (2.8)\n",
      "Collecting gluoncv<1.0,>=0.5.0\n",
      "  Downloading gluoncv-0.8.0-py2.py3-none-any.whl (810 kB)\n",
      "\u001b[K     |████████████████████████████████| 810 kB 63.0 MB/s eta 0:00:01\n",
      "\u001b[?25hRequirement already satisfied: numpy>=1.16.0 in /home/ec2-user/anaconda3/envs/mxnet_p36/lib/python3.6/site-packages (from autogluon) (1.18.1)\n",
      "Requirement already satisfied: decorator>=4.3.0 in /home/ec2-user/anaconda3/envs/mxnet_p36/lib/python3.6/site-packages (from networkx<3.0,>=2.3->autogluon) (4.4.2)\n",
      "Requirement already satisfied: joblib>=0.11 in /home/ec2-user/anaconda3/envs/mxnet_p36/lib/python3.6/site-packages (from scikit-optimize->autogluon) (0.14.1)\n",
      "Collecting pyaml>=16.9\n",
      "  Downloading pyaml-20.4.0-py2.py3-none-any.whl (17 kB)\n",
      "Collecting sacrebleu\n",
      "  Downloading sacrebleu-1.4.14-py3-none-any.whl (64 kB)\n",
      "\u001b[K     |████████████████████████████████| 64 kB 6.5 MB/s  eta 0:00:01\n",
      "\u001b[?25hCollecting sentencepiece\n",
      "  Downloading sentencepiece-0.1.91-cp36-cp36m-manylinux1_x86_64.whl (1.1 MB)\n",
      "\u001b[K     |████████████████████████████████| 1.1 MB 67.2 MB/s eta 0:00:01\n",
      "\u001b[?25hCollecting regex\n",
      "  Downloading regex-2020.7.14-cp36-cp36m-manylinux2010_x86_64.whl (660 kB)\n",
      "\u001b[K     |████████████████████████████████| 660 kB 67.4 MB/s eta 0:00:01\n",
      "\u001b[?25hCollecting tokenizers>=0.7.0\n",
      "  Downloading tokenizers-0.8.1-cp36-cp36m-manylinux1_x86_64.whl (3.0 MB)\n",
      "\u001b[K     |████████████████████████████████| 3.0 MB 72.6 MB/s eta 0:00:01\n",
      "\u001b[?25hRequirement already satisfied: flake8 in /home/ec2-user/anaconda3/envs/mxnet_p36/lib/python3.6/site-packages (from autogluon-contrib-nlp->autogluon) (3.7.9)\n",
      "Collecting contextvars\n",
      "  Downloading contextvars-2.4.tar.gz (9.6 kB)\n",
      "Collecting yacs>=0.1.6\n",
      "  Downloading yacs-0.1.8-py3-none-any.whl (14 kB)\n",
      "Requirement already satisfied: protobuf in /home/ec2-user/anaconda3/envs/mxnet_p36/lib/python3.6/site-packages (from autogluon-contrib-nlp->autogluon) (3.13.0)\n",
      "Collecting sacremoses>=0.0.38\n",
      "  Downloading sacremoses-0.0.43.tar.gz (883 kB)\n",
      "\u001b[K     |████████████████████████████████| 883 kB 58.4 MB/s eta 0:00:01\n",
      "\u001b[?25hCollecting liac-arff>=2.4.0\n",
      "  Downloading liac-arff-2.5.0.tar.gz (13 kB)\n",
      "Collecting xmltodict\n",
      "  Downloading xmltodict-0.12.0-py2.py3-none-any.whl (9.2 kB)\n",
      "Requirement already satisfied: python-dateutil in /home/ec2-user/anaconda3/envs/mxnet_p36/lib/python3.6/site-packages (from openml->autogluon) (2.8.1)\n",
      "Requirement already satisfied: py>=1.5.0 in /home/ec2-user/anaconda3/envs/mxnet_p36/lib/python3.6/site-packages (from pytest->autogluon) (1.8.1)\n",
      "Requirement already satisfied: packaging in /home/ec2-user/anaconda3/envs/mxnet_p36/lib/python3.6/site-packages (from pytest->autogluon) (20.3)\n",
      "Requirement already satisfied: attrs>=17.4.0 in /home/ec2-user/anaconda3/envs/mxnet_p36/lib/python3.6/site-packages (from pytest->autogluon) (19.3.0)\n",
      "Requirement already satisfied: more-itertools>=4.0.0 in /home/ec2-user/anaconda3/envs/mxnet_p36/lib/python3.6/site-packages (from pytest->autogluon) (8.2.0)\n",
      "Requirement already satisfied: pluggy<1.0,>=0.12 in /home/ec2-user/anaconda3/envs/mxnet_p36/lib/python3.6/site-packages (from pytest->autogluon) (0.13.1)\n",
      "Requirement already satisfied: wcwidth in /home/ec2-user/anaconda3/envs/mxnet_p36/lib/python3.6/site-packages (from pytest->autogluon) (0.1.9)\n",
      "Requirement already satisfied: importlib-metadata>=0.12 in /home/ec2-user/anaconda3/envs/mxnet_p36/lib/python3.6/site-packages (from pytest->autogluon) (1.5.0)\n",
      "Requirement already satisfied: pyparsing in /home/ec2-user/anaconda3/envs/mxnet_p36/lib/python3.6/site-packages (from ConfigSpace<=0.4.10->autogluon) (2.4.6)\n",
      "Requirement already satisfied: typing in /home/ec2-user/anaconda3/envs/mxnet_p36/lib/python3.6/site-packages (from ConfigSpace<=0.4.10->autogluon) (3.7.4.3)\n",
      "Requirement already satisfied: six in /home/ec2-user/anaconda3/envs/mxnet_p36/lib/python3.6/site-packages (from catboost<0.24->autogluon) (1.14.0)\n",
      "Requirement already satisfied: plotly in /home/ec2-user/anaconda3/envs/mxnet_p36/lib/python3.6/site-packages (from catboost<0.24->autogluon) (4.9.0)\n",
      "Requirement already satisfied: numba>=0.28 in /home/ec2-user/anaconda3/envs/mxnet_p36/lib/python3.6/site-packages (from fastparquet==0.4.1->autogluon) (0.48.0)\n"
     ]
    },
    {
     "name": "stdout",
     "output_type": "stream",
     "text": [
      "Collecting thrift>=0.11.0\n",
      "  Downloading thrift-0.13.0.tar.gz (59 kB)\n",
      "\u001b[K     |████████████████████████████████| 59 kB 10.3 MB/s eta 0:00:01\n",
      "\u001b[?25hRequirement already satisfied: chardet<4,>=3.0.2 in /home/ec2-user/anaconda3/envs/mxnet_p36/lib/python3.6/site-packages (from requests->autogluon) (3.0.4)\n",
      "Requirement already satisfied: idna<3,>=2.5 in /home/ec2-user/anaconda3/envs/mxnet_p36/lib/python3.6/site-packages (from requests->autogluon) (2.9)\n",
      "Requirement already satisfied: urllib3!=1.25.0,!=1.25.1,<1.26,>=1.21.1 in /home/ec2-user/anaconda3/envs/mxnet_p36/lib/python3.6/site-packages (from requests->autogluon) (1.25.8)\n",
      "Requirement already satisfied: certifi>=2017.4.17 in /home/ec2-user/anaconda3/envs/mxnet_p36/lib/python3.6/site-packages (from requests->autogluon) (2020.6.20)\n",
      "Requirement already satisfied: toolz>=0.8.2 in /home/ec2-user/anaconda3/envs/mxnet_p36/lib/python3.6/site-packages (from distributed>=2.6.0->autogluon) (0.10.0)\n",
      "Requirement already satisfied: pyyaml in /home/ec2-user/anaconda3/envs/mxnet_p36/lib/python3.6/site-packages (from distributed>=2.6.0->autogluon) (5.3.1)\n",
      "Requirement already satisfied: setuptools in /home/ec2-user/anaconda3/envs/mxnet_p36/lib/python3.6/site-packages (from distributed>=2.6.0->autogluon) (46.1.3.post20200330)\n",
      "Requirement already satisfied: zict>=0.1.3 in /home/ec2-user/anaconda3/envs/mxnet_p36/lib/python3.6/site-packages (from distributed>=2.6.0->autogluon) (2.0.0)\n",
      "Requirement already satisfied: sortedcontainers!=2.0.0,!=2.0.1 in /home/ec2-user/anaconda3/envs/mxnet_p36/lib/python3.6/site-packages (from distributed>=2.6.0->autogluon) (2.1.0)\n",
      "Requirement already satisfied: cloudpickle>=0.2.2 in /home/ec2-user/anaconda3/envs/mxnet_p36/lib/python3.6/site-packages (from distributed>=2.6.0->autogluon) (1.3.0)\n",
      "Requirement already satisfied: tblib>=1.6.0 in /home/ec2-user/anaconda3/envs/mxnet_p36/lib/python3.6/site-packages (from distributed>=2.6.0->autogluon) (1.6.0)\n",
      "Requirement already satisfied: click>=6.6 in /home/ec2-user/anaconda3/envs/mxnet_p36/lib/python3.6/site-packages (from distributed>=2.6.0->autogluon) (7.1.1)\n",
      "Requirement already satisfied: msgpack>=0.6.0 in /home/ec2-user/anaconda3/envs/mxnet_p36/lib/python3.6/site-packages (from distributed>=2.6.0->autogluon) (1.0.0)\n",
      "Requirement already satisfied: pynacl>=1.0.1 in /home/ec2-user/anaconda3/envs/mxnet_p36/lib/python3.6/site-packages (from paramiko>=2.4->autogluon) (1.4.0)\n",
      "Requirement already satisfied: bcrypt>=3.1.3 in /home/ec2-user/anaconda3/envs/mxnet_p36/lib/python3.6/site-packages (from paramiko>=2.4->autogluon) (3.2.0)\n",
      "Requirement already satisfied: cycler>=0.10 in /home/ec2-user/anaconda3/envs/mxnet_p36/lib/python3.6/site-packages (from matplotlib->autogluon) (0.10.0)\n",
      "Requirement already satisfied: kiwisolver>=1.0.1 in /home/ec2-user/anaconda3/envs/mxnet_p36/lib/python3.6/site-packages (from matplotlib->autogluon) (1.1.0)\n",
      "Requirement already satisfied: s3transfer<0.4.0,>=0.3.0 in /home/ec2-user/anaconda3/envs/mxnet_p36/lib/python3.6/site-packages (from boto3->autogluon) (0.3.3)\n",
      "Requirement already satisfied: botocore<1.18.0,>=1.17.59 in /home/ec2-user/anaconda3/envs/mxnet_p36/lib/python3.6/site-packages (from boto3->autogluon) (1.17.59)\n",
      "Requirement already satisfied: jmespath<1.0.0,>=0.7.1 in /home/ec2-user/anaconda3/envs/mxnet_p36/lib/python3.6/site-packages (from boto3->autogluon) (0.9.4)\n",
      "Requirement already satisfied: pytz>=2017.2 in /home/ec2-user/anaconda3/envs/mxnet_p36/lib/python3.6/site-packages (from pandas<1.0,>=0.24.0->autogluon) (2019.3)\n",
      "Requirement already satisfied: cffi!=1.11.3,>=1.8 in /home/ec2-user/anaconda3/envs/mxnet_p36/lib/python3.6/site-packages (from cryptography>=2.8->autogluon) (1.14.0)\n",
      "Collecting portalocker\n",
      "  Downloading portalocker-2.0.0-py2.py3-none-any.whl (11 kB)\n",
      "Requirement already satisfied: mccabe<0.7.0,>=0.6.0 in /home/ec2-user/anaconda3/envs/mxnet_p36/lib/python3.6/site-packages (from flake8->autogluon-contrib-nlp->autogluon) (0.6.1)\n",
      "Requirement already satisfied: pycodestyle<2.6.0,>=2.5.0 in /home/ec2-user/anaconda3/envs/mxnet_p36/lib/python3.6/site-packages (from flake8->autogluon-contrib-nlp->autogluon) (2.5.0)\n",
      "Requirement already satisfied: entrypoints<0.4.0,>=0.3.0 in /home/ec2-user/anaconda3/envs/mxnet_p36/lib/python3.6/site-packages (from flake8->autogluon-contrib-nlp->autogluon) (0.3)\n",
      "Requirement already satisfied: pyflakes<2.2.0,>=2.1.0 in /home/ec2-user/anaconda3/envs/mxnet_p36/lib/python3.6/site-packages (from flake8->autogluon-contrib-nlp->autogluon) (2.1.1)\n",
      "Collecting immutables>=0.9\n",
      "  Downloading immutables-0.14-cp36-cp36m-manylinux1_x86_64.whl (98 kB)\n",
      "\u001b[K     |████████████████████████████████| 98 kB 2.1 MB/s  eta 0:00:01\n",
      "\u001b[?25hRequirement already satisfied: zipp>=0.5 in /home/ec2-user/anaconda3/envs/mxnet_p36/lib/python3.6/site-packages (from importlib-metadata>=0.12->pytest->autogluon) (2.2.0)\n",
      "Requirement already satisfied: retrying>=1.3.3 in /home/ec2-user/anaconda3/envs/mxnet_p36/lib/python3.6/site-packages (from plotly->catboost<0.24->autogluon) (1.3.3)\n",
      "Requirement already satisfied: llvmlite<0.32.0,>=0.31.0dev0 in /home/ec2-user/anaconda3/envs/mxnet_p36/lib/python3.6/site-packages (from numba>=0.28->fastparquet==0.4.1->autogluon) (0.31.0)\n",
      "Requirement already satisfied: heapdict in /home/ec2-user/anaconda3/envs/mxnet_p36/lib/python3.6/site-packages (from zict>=0.1.3->distributed>=2.6.0->autogluon) (1.0.1)\n",
      "Requirement already satisfied: docutils<0.16,>=0.10 in /home/ec2-user/anaconda3/envs/mxnet_p36/lib/python3.6/site-packages (from botocore<1.18.0,>=1.17.59->boto3->autogluon) (0.15.2)\n",
      "Requirement already satisfied: pycparser in /home/ec2-user/anaconda3/envs/mxnet_p36/lib/python3.6/site-packages (from cffi!=1.11.3,>=1.8->cryptography>=2.8->autogluon) (2.20)\n",
      "Building wheels for collected packages: openml, ConfigSpace, fastparquet, contextvars, sacremoses, liac-arff, thrift\n",
      "  Building wheel for openml (setup.py) ... \u001b[?25ldone\n",
      "\u001b[?25h  Created wheel for openml: filename=openml-0.10.2-py3-none-any.whl size=190318 sha256=1df67efd21cae11a36e188e95b648d344c90e62e4edbaa8ec6f9fa8850eae315\n",
      "  Stored in directory: /home/ec2-user/.cache/pip/wheels/45/83/27/a45cc845ff2497e34bfc17403e649249e5e717adb08698903d\n",
      "  Building wheel for ConfigSpace (setup.py) ... \u001b[?25ldone\n",
      "\u001b[?25h  Created wheel for ConfigSpace: filename=ConfigSpace-0.4.10-cp36-cp36m-linux_x86_64.whl size=3001046 sha256=654427dfaf2c217e20626975f3e0fa46ee1667c90b50c26802607dd734748b4a\n",
      "  Stored in directory: /home/ec2-user/.cache/pip/wheels/70/71/a2/00ca7cb0f71294d73e8791d6fe5cd0c7401066ec3b7e1026db\n",
      "  Building wheel for fastparquet (setup.py) ... \u001b[?25ldone\n",
      "\u001b[?25h  Created wheel for fastparquet: filename=fastparquet-0.4.1-cp36-cp36m-linux_x86_64.whl size=7123190 sha256=c476577947114718ce1fe635c0bacae8bb32fccb0e9c5b4335f61c32d80bbae1\n",
      "  Stored in directory: /home/ec2-user/.cache/pip/wheels/8a/c2/8c/3b80e2a78a9932c93ac3fd0c449599c6b1f6fb3ccc4640f331\n",
      "  Building wheel for contextvars (setup.py) ... \u001b[?25ldone\n",
      "\u001b[?25h  Created wheel for contextvars: filename=contextvars-2.4-py3-none-any.whl size=7664 sha256=53038cc34c6dd04e923689c3130c5e6be63f5b8d63992b502cc905030b30b9eb\n",
      "  Stored in directory: /home/ec2-user/.cache/pip/wheels/41/11/53/911724983aa48deb94792432e14e518447212dd6c5477d49d3\n",
      "  Building wheel for sacremoses (setup.py) ... \u001b[?25ldone\n",
      "\u001b[?25h  Created wheel for sacremoses: filename=sacremoses-0.0.43-py3-none-any.whl size=893259 sha256=301a888a567916f6f0e7c078d277d404313200bd1713804dba99202b146d7167\n",
      "  Stored in directory: /home/ec2-user/.cache/pip/wheels/49/25/98/cdea9c79b2d9a22ccc59540b1784b67f06b633378e97f58da2\n",
      "  Building wheel for liac-arff (setup.py) ... \u001b[?25ldone\n",
      "\u001b[?25h  Created wheel for liac-arff: filename=liac_arff-2.5.0-py3-none-any.whl size=11731 sha256=3d05f1cddf78861629042ec27435aa2f3263087bb25ebc967b0543304885f645\n",
      "  Stored in directory: /home/ec2-user/.cache/pip/wheels/53/ba/da/8562a6a6dbb428fd1ecc21053106df3948645cd991958f669b\n",
      "  Building wheel for thrift (setup.py) ... \u001b[?25ldone\n",
      "\u001b[?25h  Created wheel for thrift: filename=thrift-0.13.0-cp36-cp36m-linux_x86_64.whl size=389586 sha256=6da56716e089538ebe7a21357070b2f94e88a080d75f6965632719d72910a73d\n",
      "  Stored in directory: /home/ec2-user/.cache/pip/wheels/e0/38/fc/472fe18756b177b42096961f8bd3ff2dc5c5620ac399fce52d\n",
      "Successfully built openml ConfigSpace fastparquet contextvars sacremoses liac-arff thrift\n"
     ]
    },
    {
     "name": "stdout",
     "output_type": "stream",
     "text": [
      "Installing collected packages: scikit-learn, pyaml, scikit-optimize, portalocker, sacrebleu, sentencepiece, pandas, regex, pyarrow, tokenizers, immutables, contextvars, yacs, sacremoses, autogluon-contrib-nlp, liac-arff, xmltodict, openml, ConfigSpace, catboost, thrift, fastparquet, Pillow, lightgbm, gluoncv, autogluon\n",
      "  Attempting uninstall: scikit-learn\n",
      "    Found existing installation: scikit-learn 0.23.1\n",
      "    Uninstalling scikit-learn-0.23.1:\n",
      "      Successfully uninstalled scikit-learn-0.23.1\n",
      "  Attempting uninstall: pandas\n",
      "    Found existing installation: pandas 1.0.5\n",
      "    Uninstalling pandas-1.0.5:\n",
      "      Successfully uninstalled pandas-1.0.5\n",
      "  Attempting uninstall: Pillow\n",
      "    Found existing installation: Pillow 7.1.2\n",
      "    Uninstalling Pillow-7.1.2:\n",
      "      Successfully uninstalled Pillow-7.1.2\n",
      "Successfully installed ConfigSpace-0.4.10 Pillow-6.2.1 autogluon-0.0.13 autogluon-contrib-nlp-0.0.1b20200815 catboost-0.23.2 contextvars-2.4 fastparquet-0.4.1 gluoncv-0.8.0 immutables-0.14 liac-arff-2.5.0 lightgbm-2.3.1 openml-0.10.2 pandas-0.25.3 portalocker-2.0.0 pyaml-20.4.0 pyarrow-1.0.0 regex-2020.7.14 sacrebleu-1.4.14 sacremoses-0.0.43 scikit-learn-0.22.2.post1 scikit-optimize-0.8.1 sentencepiece-0.1.91 thrift-0.13.0 tokenizers-0.8.1 xmltodict-0.12.0 yacs-0.1.8\n",
      "\u001b[33mWARNING: You are using pip version 20.0.2; however, version 20.2.3 is available.\n",
      "You should consider upgrading via the '/home/ec2-user/anaconda3/envs/mxnet_p36/bin/python3 -m pip install --upgrade pip' command.\u001b[0m\n"
     ]
    }
   ],
   "source": [
    "!python3 -m pip install autogluon"
   ]
  },
  {
   "cell_type": "code",
   "execution_count": 2,
   "metadata": {},
   "outputs": [
    {
     "name": "stderr",
     "output_type": "stream",
     "text": [
      "Downloading shopee-iet.zip from https://autogluon.s3.amazonaws.com/datasets/shopee-iet.zip...\n"
     ]
    },
    {
     "data": {
      "application/vnd.jupyter.widget-view+json": {
       "model_id": "2e1a7294fbc34cabaa6e87b3d7d1126b",
       "version_major": 2,
       "version_minor": 0
      },
      "text/plain": [
       "VBox(children=(HBox(children=(IntProgress(value=0, layout=Layout(flex='2'), max=40895), HTML(value=''))), HTML…"
      ]
     },
     "metadata": {},
     "output_type": "display_data"
    },
    {
     "name": "stdout",
     "output_type": "stream",
     "text": [
      "\n"
     ]
    },
    {
     "data": {
      "text/plain": [
       "'data'"
      ]
     },
     "execution_count": 2,
     "metadata": {},
     "output_type": "execute_result"
    }
   ],
   "source": [
    "import autogluon as ag\n",
    "\n",
    "filename = ag.download('https://autogluon.s3.amazonaws.com/datasets/shopee-iet.zip')\n",
    "ag.unzip(filename)\n"
   ]
  },
  {
   "cell_type": "code",
   "execution_count": 3,
   "metadata": {},
   "outputs": [],
   "source": [
    "from autogluon import ImageClassification as task\n",
    "\n",
    "dataset = task.Dataset('data/train')\n",
    "\n",
    "# test_dataset = task.Dataset('data/test', train=False)\n"
   ]
  },
  {
   "cell_type": "code",
   "execution_count": 4,
   "metadata": {},
   "outputs": [
    {
     "name": "stderr",
     "output_type": "stream",
     "text": [
      "scheduler_options: Key 'training_history_callback_delta_secs': Imputing default value 60\n",
      "scheduler_options: Key 'delay_get_config': Imputing default value True\n",
      "\n",
      "Starting Experiments\n",
      "Num of Finished Tasks is 0\n",
      "Num of Pending Tasks is 2\n"
     ]
    },
    {
     "name": "stdout",
     "output_type": "stream",
     "text": [
      "scheduler: FIFOScheduler(\n",
      "DistributedResourceManager{\n",
      "(Remote: Remote REMOTE_ID: 0, \n",
      "\t<Remote: 'inproc://172.16.42.86/10605/1' processes=1 threads=4, memory=64.38 GB>, Resource: NodeResourceManager(4 CPUs, 1 GPUs))\n",
      "})\n",
      "\n"
     ]
    },
    {
     "data": {
      "application/vnd.jupyter.widget-view+json": {
       "model_id": "1030f82813b545c3ae6f2760ab9014a5",
       "version_major": 2,
       "version_minor": 0
      },
      "text/plain": [
       "HBox(children=(FloatProgress(value=0.0, max=2.0), HTML(value='')))"
      ]
     },
     "metadata": {},
     "output_type": "display_data"
    },
    {
     "name": "stderr",
     "output_type": "stream",
     "text": [
      "Model file not found. Downloading.\n"
     ]
    },
    {
     "name": "stdout",
     "output_type": "stream",
     "text": [
      "Downloading /home/ec2-user/.mxnet/models/resnet50_v1b-0ecdba34.zip from https://apache-mxnet.s3-accelerate.dualstack.amazonaws.com/gluon/models/resnet50_v1b-0ecdba34.zip...\n"
     ]
    },
    {
     "name": "stderr",
     "output_type": "stream",
     "text": [
      "100%|██████████| 55344/55344 [00:01<00:00, 43941.27KB/s]\n"
     ]
    },
    {
     "data": {
      "application/vnd.jupyter.widget-view+json": {
       "model_id": "7b344a537f524eef9e5660db82ab0aeb",
       "version_major": 2,
       "version_minor": 0
      },
      "text/plain": [
       "VBox(children=(HBox(children=(IntProgress(value=0, max=5), HTML(value=''))), HTML(value='')))"
      ]
     },
     "metadata": {},
     "output_type": "display_data"
    },
    {
     "name": "stdout",
     "output_type": "stream",
     "text": [
      "\n",
      "\n",
      "\n",
      "\n"
     ]
    },
    {
     "name": "stderr",
     "output_type": "stream",
     "text": [
      "Saving Training Curve in checkpoint/plot_training_curves.png\n"
     ]
    },
    {
     "data": {
      "image/png": "[encoded data removed]",
      "text/plain": [
       "<Figure size 432x288 with 1 Axes>"
      ]
     },
     "metadata": {
      "needs_background": "light"
     },
     "output_type": "display_data"
    }
   ],
   "source": [
    "classifier = task.fit(dataset,\n",
    "                      epochs=5,\n",
    "                      ngpus_per_trial=1,\n",
    "                      verbose=False)"
   ]
  },
  {
   "cell_type": "code",
   "execution_count": 5,
   "metadata": {},
   "outputs": [
    {
     "name": "stdout",
     "output_type": "stream",
     "text": [
      "Top-1 val acc: 0.562\n"
     ]
    }
   ],
   "source": [
    "print('Top-1 val acc: %.3f' % classifier.results['best_reward'])\n"
   ]
  },
  {
   "cell_type": "code",
   "execution_count": 8,
   "metadata": {},
   "outputs": [
    {
     "data": {
      "image/jpeg": "[encoded data removed]",
      "text/plain": [
       "<IPython.core.display.Image object>"
      ]
     },
     "metadata": {},
     "output_type": "display_data"
    },
    {
     "name": "stdout",
     "output_type": "stream",
     "text": [
      "The input picture is classified as [BabyShirt], with probability 0.46.\n"
     ]
    }
   ],
   "source": [
    "from IPython.display import Image, display\n",
    "image = 'data/test/BabyShirt/BabyShirt_323.jpg'\n",
    "display(Image(filename=image)) \n",
    "ind, prob, _ = classifier.predict(image)\n",
    "\n",
    "\n",
    "print('The input picture is classified as [%s], with probability %.2f.' %\n",
    "      (dataset.init().classes[ind.asscalar()], prob.asscalar()))\n",
    "\n",
    "\n",
    "# print('The input picture is classified as [%s], with probability %.2f.' %\n",
    "#       (dataset.init().classes[ind]))\n"
   ]
  },
  {
   "cell_type": "code",
   "execution_count": 9,
   "metadata": {},
   "outputs": [
    {
     "name": "stdout",
     "output_type": "stream",
     "text": [
      "Collecting torch\n",
      "  Downloading torch-1.6.0-cp36-cp36m-manylinux1_x86_64.whl (748.8 MB)\n",
      "\u001b[K     |████████████████████████████████| 748.8 MB 4.3 kB/s  eta 0:00:01    |████▏                           | 96.5 MB 58.1 MB/s eta 0:00:12     |██████▋                         | 155.2 MB 57.2 MB/s eta 0:00:11\n",
      "\u001b[?25hRequirement already satisfied: numpy in /home/ec2-user/anaconda3/envs/mxnet_p36/lib/python3.6/site-packages (from torch) (1.18.1)\n",
      "Requirement already satisfied: future in /home/ec2-user/anaconda3/envs/mxnet_p36/lib/python3.6/site-packages (from torch) (0.18.2)\n",
      "Installing collected packages: torch\n",
      "Successfully installed torch-1.6.0\n",
      "\u001b[33mWARNING: You are using pip version 20.0.2; however, version 20.2.3 is available.\n",
      "You should consider upgrading via the '/home/ec2-user/anaconda3/envs/mxnet_p36/bin/python -m pip install --upgrade pip' command.\u001b[0m\n",
      "Collecting torchvision\n",
      "  Downloading torchvision-0.7.0-cp36-cp36m-manylinux1_x86_64.whl (5.9 MB)\n",
      "\u001b[K     |████████████████████████████████| 5.9 MB 10.3 MB/s eta 0:00:01\n",
      "\u001b[?25hRequirement already satisfied: pillow>=4.1.1 in /home/ec2-user/anaconda3/envs/mxnet_p36/lib/python3.6/site-packages (from torchvision) (6.2.1)\n",
      "Requirement already satisfied: torch==1.6.0 in /home/ec2-user/anaconda3/envs/mxnet_p36/lib/python3.6/site-packages (from torchvision) (1.6.0)\n",
      "Requirement already satisfied: numpy in /home/ec2-user/anaconda3/envs/mxnet_p36/lib/python3.6/site-packages (from torchvision) (1.18.1)\n",
      "Requirement already satisfied: future in /home/ec2-user/anaconda3/envs/mxnet_p36/lib/python3.6/site-packages (from torch==1.6.0->torchvision) (0.18.2)\n",
      "Installing collected packages: torchvision\n",
      "Successfully installed torchvision-0.7.0\n",
      "\u001b[33mWARNING: You are using pip version 20.0.2; however, version 20.2.3 is available.\n",
      "You should consider upgrading via the '/home/ec2-user/anaconda3/envs/mxnet_p36/bin/python -m pip install --upgrade pip' command.\u001b[0m\n"
     ]
    }
   ],
   "source": [
    "!pip install torch \n",
    "!pip install torchvision"
   ]
  },
  {
   "cell_type": "code",
   "execution_count": 10,
   "metadata": {},
   "outputs": [],
   "source": [
    "import torch\n",
    "import torch.nn as nn\n",
    "import torch.nn.functional as F\n",
    "\n",
    "import torchvision\n",
    "import torchvision.transforms as transforms\n",
    "from tqdm.auto import tqdm"
   ]
  },
  {
   "cell_type": "code",
   "execution_count": 11,
   "metadata": {},
   "outputs": [
    {
     "name": "stdout",
     "output_type": "stream",
     "text": [
      "Downloading http://yann.lecun.com/exdb/mnist/train-images-idx3-ubyte.gz to ./data/MNIST/raw/train-images-idx3-ubyte.gz\n"
     ]
    },
    {
     "data": {
      "application/vnd.jupyter.widget-view+json": {
       "model_id": "c37edcb9645a453396b4299e00ab12f4",
       "version_major": 2,
       "version_minor": 0
      },
      "text/plain": [
       "HBox(children=(FloatProgress(value=1.0, bar_style='info', max=1.0), HTML(value='')))"
      ]
     },
     "metadata": {},
     "output_type": "display_data"
    },
    {
     "name": "stdout",
     "output_type": "stream",
     "text": [
      "Extracting ./data/MNIST/raw/train-images-idx3-ubyte.gz to ./data/MNIST/raw\n",
      "Downloading http://yann.lecun.com/exdb/mnist/train-labels-idx1-ubyte.gz to ./data/MNIST/raw/train-labels-idx1-ubyte.gz\n"
     ]
    },
    {
     "data": {
      "application/vnd.jupyter.widget-view+json": {
       "model_id": "7e9afb5c48d54154ac0850f683c14c0f",
       "version_major": 2,
       "version_minor": 0
      },
      "text/plain": [
       "HBox(children=(FloatProgress(value=1.0, bar_style='info', max=1.0), HTML(value='')))"
      ]
     },
     "metadata": {},
     "output_type": "display_data"
    },
    {
     "name": "stdout",
     "output_type": "stream",
     "text": [
      "Extracting ./data/MNIST/raw/train-labels-idx1-ubyte.gz to ./data/MNIST/raw\n",
      "Downloading http://yann.lecun.com/exdb/mnist/t10k-images-idx3-ubyte.gz to ./data/MNIST/raw/t10k-images-idx3-ubyte.gz\n",
      "\n"
     ]
    },
    {
     "data": {
      "application/vnd.jupyter.widget-view+json": {
       "model_id": "68959b3a91814cec8b38c4552621e6c0",
       "version_major": 2,
       "version_minor": 0
      },
      "text/plain": [
       "HBox(children=(FloatProgress(value=1.0, bar_style='info', max=1.0), HTML(value='')))"
      ]
     },
     "metadata": {},
     "output_type": "display_data"
    },
    {
     "name": "stdout",
     "output_type": "stream",
     "text": [
      "Extracting ./data/MNIST/raw/t10k-images-idx3-ubyte.gz to ./data/MNIST/raw\n",
      "Downloading http://yann.lecun.com/exdb/mnist/t10k-labels-idx1-ubyte.gz to ./data/MNIST/raw/t10k-labels-idx1-ubyte.gz\n"
     ]
    },
    {
     "data": {
      "application/vnd.jupyter.widget-view+json": {
       "model_id": "8b86251889ce48e6a8389fac06aec7eb",
       "version_major": 2,
       "version_minor": 0
      },
      "text/plain": [
       "HBox(children=(FloatProgress(value=1.0, bar_style='info', max=1.0), HTML(value='')))"
      ]
     },
     "metadata": {},
     "output_type": "display_data"
    },
    {
     "name": "stdout",
     "output_type": "stream",
     "text": [
      "Extracting ./data/MNIST/raw/t10k-labels-idx1-ubyte.gz to ./data/MNIST/raw\n",
      "Processing...\n",
      "Done!\n"
     ]
    },
    {
     "name": "stderr",
     "output_type": "stream",
     "text": [
      "/home/ec2-user/anaconda3/envs/mxnet_p36/lib/python3.6/site-packages/torchvision/datasets/mnist.py:469: UserWarning: The given NumPy array is not writeable, and PyTorch does not support non-writeable tensors. This means you can write to the underlying (supposedly non-writeable) NumPy array using the tensor. You may want to copy the array to protect its data or make it writeable before converting it to a tensor. This type of warning will be suppressed for the rest of this program. (Triggered internally at  /pytorch/torch/csrc/utils/tensor_numpy.cpp:141.)\n",
      "  return torch.from_numpy(parsed.astype(m[2], copy=False)).view(*s)\n"
     ]
    }
   ],
   "source": [
    "transform = transforms.Compose([\n",
    "   transforms.ToTensor(),\n",
    "   transforms.Normalize((0.1307,), (0.3081,))\n",
    "])\n",
    "\n",
    "# the datasets\n",
    "trainset = torchvision.datasets.MNIST(root='./data', train=True, download=True, transform=transform)\n",
    "testset = torchvision.datasets.MNIST(root='./data', train=False, download=True, transform=transform)"
   ]
  },
  {
   "cell_type": "code",
   "execution_count": 12,
   "metadata": {},
   "outputs": [],
   "source": [
    "def train_mnist(args, reporter):\n",
    "    # get variables from args\n",
    "    lr = args.lr\n",
    "    wd = args.wd\n",
    "    epochs = args.epochs\n",
    "    net = args.net\n",
    "    print('lr: {}, wd: {}'.format(lr, wd))\n",
    "\n",
    "    device = 'cuda' if torch.cuda.is_available() else 'cpu'\n",
    "    # Model\n",
    "    net = net.to(device)\n",
    "\n",
    "    if device == 'cuda':\n",
    "        net = nn.DataParallel(net)\n",
    "    criterion = nn.CrossEntropyLoss()\n",
    "    optimizer = torch.optim.SGD(net.parameters(), lr=args.lr, momentum=0.9, weight_decay=wd)\n",
    "\n",
    "    # datasets and dataloaders\n",
    "    trainset = torchvision.datasets.MNIST(root='./data', train=True, download=False, transform=transform)\n",
    "    trainloader = torch.utils.data.DataLoader(trainset, batch_size=128, shuffle=True, num_workers=2)\n",
    "\n",
    "    testset = torchvision.datasets.MNIST(root='./data', train=False, download=False, transform=transform)\n",
    "    testloader = torch.utils.data.DataLoader(testset, batch_size=128, shuffle=False, num_workers=2)\n",
    "\n",
    "    # Training\n",
    "    def train(epoch):\n",
    "        net.train()\n",
    "        train_loss, correct, total = 0, 0, 0\n",
    "        for batch_idx, (inputs, targets) in enumerate(trainloader):\n",
    "            inputs, targets = inputs.to(device), targets.to(device)\n",
    "            optimizer.zero_grad()\n",
    "            outputs = net(inputs)\n",
    "            loss = criterion(outputs, targets)\n",
    "            loss.backward()\n",
    "            optimizer.step()\n",
    "\n",
    "    def test(epoch):\n",
    "        net.eval()\n",
    "        test_loss, correct, total = 0, 0, 0\n",
    "        with torch.no_grad():\n",
    "            for batch_idx, (inputs, targets) in enumerate(testloader):\n",
    "                inputs, targets = inputs.to(device), targets.to(device)\n",
    "                outputs = net(inputs)\n",
    "                loss = criterion(outputs, targets)\n",
    "\n",
    "                test_loss += loss.item()\n",
    "                _, predicted = outputs.max(1)\n",
    "                total += targets.size(0)\n",
    "                correct += predicted.eq(targets).sum().item()\n",
    "\n",
    "        acc = 100.*correct/total\n",
    "        # 'epoch' reports the number of epochs done\n",
    "        reporter(epoch=epoch+1, accuracy=acc)\n",
    "\n",
    "    for epoch in tqdm(range(0, epochs)):\n",
    "        train(epoch)\n",
    "        test(epoch)"
   ]
  },
  {
   "cell_type": "code",
   "execution_count": 13,
   "metadata": {},
   "outputs": [],
   "source": [
    "import autogluon as ag\n",
    "\n",
    "@ag.obj(\n",
    "    hidden_conv=ag.space.Int(6, 12),\n",
    "    hidden_fc=ag.space.Categorical(80, 120, 160),\n",
    ")\n",
    "class Net(nn.Module):\n",
    "    def __init__(self, hidden_conv, hidden_fc):\n",
    "        super().__init__()\n",
    "        self.conv1 = nn.Conv2d(1, hidden_conv, 5)\n",
    "        self.pool = nn.MaxPool2d(2, 2)\n",
    "        self.conv2 = nn.Conv2d(hidden_conv, 16, 5)\n",
    "        self.fc1 = nn.Linear(16 * 4 * 4, hidden_fc)\n",
    "        self.fc2 = nn.Linear(hidden_fc, 84)\n",
    "        self.fc3 = nn.Linear(84, 10)\n",
    "\n",
    "    def forward(self, x):\n",
    "        x = self.pool(F.relu(self.conv1(x)))\n",
    "        x = self.pool(F.relu(self.conv2(x)))\n",
    "        x = x.view(-1, 16 * 4 * 4)\n",
    "        x = F.relu(self.fc1(x))\n",
    "        x = F.relu(self.fc2(x))\n",
    "        x = self.fc3(x)\n",
    "        return x"
   ]
  },
  {
   "cell_type": "code",
   "execution_count": 14,
   "metadata": {},
   "outputs": [],
   "source": [
    "@ag.args(\n",
    "    lr = ag.space.Real(0.01, 0.2, log=True),\n",
    "    wd = ag.space.Real(1e-4, 5e-4, log=True),\n",
    "    net = Net(),\n",
    "    epochs=5,\n",
    ")\n",
    "def ag_train_mnist(args, reporter):\n",
    "    return train_mnist(args, reporter)"
   ]
  },
  {
   "cell_type": "code",
   "execution_count": 15,
   "metadata": {},
   "outputs": [
    {
     "name": "stderr",
     "output_type": "stream",
     "text": [
      "scheduler_options: Key 'searcher': Imputing default value random\n",
      "scheduler_options: Key 'resume': Imputing default value False\n",
      "scheduler_options: Key 'visualizer': Imputing default value none\n",
      "scheduler_options: Key 'training_history_callback_delta_secs': Imputing default value 60\n",
      "scheduler_options: Key 'delay_get_config': Imputing default value True\n",
      "\n"
     ]
    },
    {
     "name": "stdout",
     "output_type": "stream",
     "text": [
      "FIFOScheduler(\n",
      "DistributedResourceManager{\n",
      "(Remote: Remote REMOTE_ID: 0, \n",
      "\t<Remote: 'inproc://172.16.42.86/10605/1' processes=1 threads=4, memory=64.38 GB>, Resource: NodeResourceManager(4 CPUs, 1 GPUs))\n",
      "})\n",
      "\n"
     ]
    }
   ],
   "source": [
    "myscheduler = ag.scheduler.FIFOScheduler(\n",
    "    ag_train_mnist,\n",
    "    resource={'num_cpus': 4, 'num_gpus': 1},\n",
    "    num_trials=2,\n",
    "    time_attr='epoch',\n",
    "    reward_attr='accuracy')\n",
    "print(myscheduler)"
   ]
  },
  {
   "cell_type": "code",
   "execution_count": 16,
   "metadata": {},
   "outputs": [
    {
     "name": "stderr",
     "output_type": "stream",
     "text": [
      "Starting Experiments\n",
      "Num of Finished Tasks is 0\n",
      "Num of Pending Tasks is 2\n"
     ]
    },
    {
     "data": {
      "application/vnd.jupyter.widget-view+json": {
       "model_id": "700e62be28f94c3e9b6b1b05441dd5d0",
       "version_major": 2,
       "version_minor": 0
      },
      "text/plain": [
       "HBox(children=(FloatProgress(value=0.0, max=2.0), HTML(value='')))"
      ]
     },
     "metadata": {},
     "output_type": "display_data"
    },
    {
     "name": "stdout",
     "output_type": "stream",
     "text": [
      "lr: 0.0447213595, wd: 0.0002236068\n"
     ]
    },
    {
     "data": {
      "application/vnd.jupyter.widget-view+json": {
       "model_id": "b1066fd2d6b14845b1b924ab1e29bb4d",
       "version_major": 2,
       "version_minor": 0
      },
      "text/plain": [
       "HBox(children=(FloatProgress(value=0.0, max=5.0), HTML(value='')))"
      ]
     },
     "metadata": {},
     "output_type": "display_data"
    },
    {
     "name": "stdout",
     "output_type": "stream",
     "text": [
      "\n",
      "\n",
      "lr: 0.028245913732173278, wd: 0.00017160776862349322\n"
     ]
    },
    {
     "data": {
      "application/vnd.jupyter.widget-view+json": {
       "model_id": "fcd98138aea94189b825345344cd3fe7",
       "version_major": 2,
       "version_minor": 0
      },
      "text/plain": [
       "HBox(children=(FloatProgress(value=0.0, max=5.0), HTML(value='')))"
      ]
     },
     "metadata": {},
     "output_type": "display_data"
    },
    {
     "name": "stdout",
     "output_type": "stream",
     "text": [
      "\n"
     ]
    }
   ],
   "source": [
    "myscheduler.run()\n",
    "myscheduler.join_jobs()\n"
   ]
  },
  {
   "cell_type": "code",
   "execution_count": 17,
   "metadata": {},
   "outputs": [
    {
     "data": {
      "image/png": "[encoded data removed]",
      "text/plain": [
       "<Figure size 432x288 with 1 Axes>"
      ]
     },
     "metadata": {
      "needs_background": "light"
     },
     "output_type": "display_data"
    },
    {
     "name": "stdout",
     "output_type": "stream",
     "text": [
      "The Best Configuration and Accuracy are: {'lr': 0.028245913732173278, 'net▁hidden_conv': 11, 'net▁hidden_fc▁choice': 0, 'wd': 0.00017160776862349322}, 98.9\n"
     ]
    }
   ],
   "source": [
    "myscheduler.get_training_curves(plot=True,use_legend=False)\n",
    "print('The Best Configuration and Accuracy are: {}, {}'.format(myscheduler.get_best_config(),\n",
    "                                                               myscheduler.get_best_reward()))\n"
   ]
  },
  {
   "cell_type": "markdown",
   "metadata": {},
   "source": [
    "# So, how about unsupervised learning ? "
   ]
  },
  {
   "cell_type": "code",
   "execution_count": null,
   "metadata": {},
   "outputs": [],
   "source": []
  }
 ],
 "metadata": {
  "kernelspec": {
   "display_name": "conda_mxnet_p36",
   "language": "python",
   "name": "conda_mxnet_p36"
  },
  "language_info": {
   "codemirror_mode": {
    "name": "ipython",
    "version": 3
   },
   "file_extension": ".py",
   "mimetype": "text/x-python",
   "name": "python",
   "nbconvert_exporter": "python",
   "pygments_lexer": "ipython3",
   "version": "3.6.10"
  }
 },
 "nbformat": 4,
 "nbformat_minor": 4
}
