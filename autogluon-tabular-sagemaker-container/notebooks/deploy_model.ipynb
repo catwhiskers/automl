{
 "cells": [
  {
   "cell_type": "markdown",
   "metadata": {},
   "source": [
    "### Bring Your Own Autogluon Container "
   ]
  },
  {
   "cell_type": "code",
   "execution_count": 19,
   "metadata": {},
   "outputs": [
    {
     "name": "stdout",
     "output_type": "stream",
     "text": [
      "WARNING! Using --password via the CLI is insecure. Use --password-stdin.\n",
      "WARNING! Your password will be stored unencrypted in /home/ec2-user/.docker/config.json.\n",
      "Configure a credential helper to remove this warning. See\n",
      "https://docs.docker.com/engine/reference/commandline/login/#credentials-store\n",
      "\n",
      "Login Succeeded\n",
      "Sending build context to Docker daemon  41.42MB\n",
      "Step 1/11 : FROM python:3.7.6-slim-buster\n",
      " ---> 84de2ffd919d\n",
      "Step 2/11 : COPY requirements.txt /opt/program/requirements.txt\n",
      " ---> Using cache\n",
      " ---> 5e218ddefc50\n",
      "Step 3/11 : RUN apt-get -y update && apt-get install -y --no-install-recommends          wget          nginx          ca-certificates          git          python3-dev          gcc     && rm -rf /var/lib/apt/lists/*\n",
      " ---> Using cache\n",
      " ---> 6a3b064a2c32\n",
      "Step 4/11 : RUN pip install --no-cache-dir -r /opt/program/requirements.txt\n",
      " ---> Using cache\n",
      " ---> 663fbc8ce76a\n",
      "Step 5/11 : RUN pip install --upgrade mxnet     && pip install autogluon\n",
      " ---> Using cache\n",
      " ---> 791595f2b584\n",
      "Step 6/11 : ENV PYTHONUNBUFFERED=TRUE\n",
      " ---> Using cache\n",
      " ---> 3384f62a2e49\n",
      "Step 7/11 : ENV PYTHONDONTWRITEBYTECODE=TRUE\n",
      " ---> Using cache\n",
      " ---> 7e4813ccc950\n",
      "Step 8/11 : ENV PATH=\"/opt/program:${PATH}\"\n",
      " ---> Using cache\n",
      " ---> 4740291fd4e4\n",
      "Step 9/11 : ENV MODEL_PATH=\"/opt/ml/model\"\n",
      " ---> Using cache\n",
      " ---> 922564e9492d\n",
      "Step 10/11 : COPY model /opt/program\n",
      " ---> Using cache\n",
      " ---> c68501b36e3d\n",
      "Step 11/11 : WORKDIR /opt/program\n",
      " ---> Using cache\n",
      " ---> 9fcb186f77ec\n",
      "Successfully built 9fcb186f77ec\n",
      "Successfully tagged autogluon-tabular-data:latest\n",
      "The push refers to repository [230755935769.dkr.ecr.us-east-1.amazonaws.com/autogluon-tabular-data]\n",
      "\n",
      "\u001b[1B218989be: Preparing \n",
      "\u001b[1Bc7f5faa9: Preparing \n",
      "\u001b[1B21369ccf: Preparing \n",
      "\u001b[1Be10cb004: Preparing \n",
      "\u001b[1B2f7dd437: Preparing \n",
      "\u001b[1B2570d518: Preparing \n",
      "\u001b[2B2570d518: Waiting g \n",
      "\u001b[1Be77dffa4: Preparing \n",
      "\u001b[1Ba0723efa: Preparing \n",
      "\u001b[1B0ecef392: Layer already exists \u001b[5A\u001b[2Klatest: digest: sha256:f789262efadfe6b93447c2286bb77bee382aafeb74329fee14b531e2dea5c3e1 size: 2424\n"
     ]
    }
   ],
   "source": [
    "!cd ../ && ./build_and_push.sh"
   ]
  },
  {
   "cell_type": "markdown",
   "metadata": {},
   "source": [
    "### Introduction to BYOC - data & execution integration "
   ]
  },
  {
   "cell_type": "markdown",
   "metadata": {},
   "source": [
    "### Deploy training job "
   ]
  },
  {
   "cell_type": "code",
   "execution_count": 20,
   "metadata": {},
   "outputs": [],
   "source": [
    "import sagemaker\n",
    "from sagemaker.estimator import Estimator\n",
    "from sagemaker import get_execution_role\n",
    "from sagemaker.predictor import csv_serializer, json_serializer\n",
    "\n",
    "\n",
    "sess = sagemaker.Session()\n",
    "role = get_execution_role()\n",
    "account = sess.boto_session.client('sts').get_caller_identity()['Account']\n",
    "region = sess.boto_session.region_name"
   ]
  },
  {
   "cell_type": "code",
   "execution_count": 21,
   "metadata": {},
   "outputs": [],
   "source": [
    "training_data = 's3://vpon-workshop-yianc/train.csv'\n",
    "test_data = 's3://vpon-workshop-yianc/test.csv'"
   ]
  },
  {
   "cell_type": "code",
   "execution_count": 22,
   "metadata": {},
   "outputs": [
    {
     "name": "stderr",
     "output_type": "stream",
     "text": [
      "Parameter image_name will be renamed to image_uri in SageMaker Python SDK v2.\n"
     ]
    }
   ],
   "source": [
    "# image = 'autogluon-tabular-data'\n",
    "image = '230755935769.dkr.ecr.us-east-1.amazonaws.com/autogluon-tabular-data'\n",
    "\n",
    "sm_model = Estimator(image_name=image, \n",
    "                     role=role, \n",
    "                     train_instance_count=1, \n",
    "#                      train_instance_type='local',\n",
    "                     train_instance_type='ml.c5.xlarge',\n",
    "                     hyperparameters={'label-column': 'SalePrice'}\n",
    "                    )"
   ]
  },
  {
   "cell_type": "code",
   "execution_count": 23,
   "metadata": {
    "scrolled": true
   },
   "outputs": [
    {
     "name": "stderr",
     "output_type": "stream",
     "text": [
      "'s3_input' class will be renamed to 'TrainingInput' in SageMaker Python SDK v2.\n",
      "'s3_input' class will be renamed to 'TrainingInput' in SageMaker Python SDK v2.\n"
     ]
    },
    {
     "name": "stdout",
     "output_type": "stream",
     "text": [
      "2020-09-24 06:53:24 Starting - Starting the training job...\n",
      "2020-09-24 06:53:26 Starting - Launching requested ML instances......\n",
      "2020-09-24 06:54:39 Starting - Preparing the instances for training...\n",
      "2020-09-24 06:55:21 Downloading - Downloading input data\n",
      "2020-09-24 06:55:21 Training - Downloading the training image......\n",
      "2020-09-24 06:56:20 Training - Training image download completed. Training in progress..\u001b[34mParameters: ['train.csv']\u001b[0m\n",
      "\u001b[34m/opt/ml/input/data/training\n",
      "        Id  MSSubClass MSZoning  ...  SaleType  SaleCondition SalePrice\u001b[0m\n",
      "\u001b[34m0        1          60       RL  ...        WD         Normal    208500\u001b[0m\n",
      "\u001b[34m1        2          20       RL  ...        WD         Normal    181500\u001b[0m\n",
      "\u001b[34m2        3          60       RL  ...        WD         Normal    223500\u001b[0m\n",
      "\u001b[34m3        4          70       RL  ...        WD        Abnorml    140000\u001b[0m\n",
      "\u001b[34m4        5          60       RL  ...        WD         Normal    250000\u001b[0m\n",
      "\u001b[34m...    ...         ...      ...  ...       ...            ...       ...\u001b[0m\n",
      "\u001b[34m1455  1456          60       RL  ...        WD         Normal    175000\u001b[0m\n",
      "\u001b[34m1456  1457          20       RL  ...        WD         Normal    210000\u001b[0m\n",
      "\u001b[34m1457  1458          70       RL  ...        WD         Normal    266500\u001b[0m\n",
      "\u001b[34m1458  1459          20       RL  ...        WD         Normal    142125\u001b[0m\n",
      "\u001b[34m1459  1460          20       RL  ...        WD         Normal    147500\n",
      "\u001b[0m\n",
      "\u001b[34m[1460 rows x 81 columns]\u001b[0m\n",
      "\u001b[34mWarning: `hyperparameter_tune=True` is currently experimental and may cause the process to hang. Setting `auto_stack=True` instead is recommended to achieve maximum quality models.\u001b[0m\n",
      "\u001b[34mBeginning AutoGluon training ... Time limit = 300s\u001b[0m\n",
      "\u001b[34mAutoGluon will save models to /opt/ml/model/\u001b[0m\n",
      "\u001b[34mAutoGluon Version:  0.0.13\u001b[0m\n",
      "\u001b[34mTrain Data Rows:    1460\u001b[0m\n",
      "\u001b[34mTrain Data Columns: 81\u001b[0m\n",
      "\u001b[34mTuning Data Rows:    1459\u001b[0m\n",
      "\u001b[34mTuning Data Columns: 80\u001b[0m\n",
      "\u001b[34mPreprocessing data ...\u001b[0m\n",
      "\u001b[34mHere are the first 10 unique label values in your data:  [208500, 181500, 223500, 140000, 250000, 143000, 307000, 200000, 129900, 118000]\u001b[0m\n",
      "\u001b[34mAutoGluon infers your prediction problem is: regression  (because dtype of label-column == int and many unique label-values observed).\u001b[0m\n",
      "\u001b[34mIf this is wrong, please specify `problem_type` argument in fit() instead (You may specify problem_type as one of: ['binary', 'multiclass', 'regression'])\n",
      "\u001b[0m\n",
      "\u001b[34mFeature Generator processed 2919 data points with 80 features\u001b[0m\n",
      "\u001b[34mOriginal Features (raw dtypes):\u001b[0m\n",
      "\u001b[34m#011int64 features: 26\u001b[0m\n",
      "\u001b[34m#011object features: 43\u001b[0m\n",
      "\u001b[34m#011float64 features: 11\u001b[0m\n",
      "\u001b[34mOriginal Features (inferred dtypes):\u001b[0m\n",
      "\u001b[34m#011int features: 26\u001b[0m\n",
      "\u001b[34m#011object features: 43\u001b[0m\n",
      "\u001b[34m#011float features: 11\u001b[0m\n",
      "\u001b[34mGenerated Features (special dtypes):\u001b[0m\n",
      "\u001b[34mProcessed Features (raw dtypes):\u001b[0m\n",
      "\u001b[34m#011int features: 26\u001b[0m\n",
      "\u001b[34m#011float features: 11\u001b[0m\n",
      "\u001b[34m#011category features: 43\u001b[0m\n",
      "\u001b[34mProcessed Features:\u001b[0m\n",
      "\u001b[34m#011int features: 26\u001b[0m\n",
      "\u001b[34m#011float features: 11\u001b[0m\n",
      "\u001b[34m#011category features: 43\u001b[0m\n",
      "\u001b[34m#011Data preprocessing and feature engineering runtime = 0.3s ...\u001b[0m\n",
      "\u001b[34mAutoGluon will gauge predictive performance using evaluation metric: root_mean_squared_error\u001b[0m\n",
      "\u001b[34mTo change this, specify the eval_metric argument of fit()\u001b[0m\n",
      "\u001b[34mAutoGluon will early stop models using evaluation metric: root_mean_squared_error\u001b[0m\n",
      "\u001b[34mscheduler_options: Key 'training_history_callback_delta_secs': Imputing default value 60\u001b[0m\n",
      "\u001b[34mscheduler_options: Key 'delay_get_config': Imputing default value True\n",
      "\u001b[0m\n",
      "\u001b[34mStarting Experiments\u001b[0m\n",
      "\u001b[34mNum of Finished Tasks is 0\u001b[0m\n",
      "\u001b[34mNum of Pending Tasks is 5\u001b[0m\n",
      "\u001b[34m#015  0%|          | 0/5 [00:00<?, ?it/s]Time out (secs) is 135.0\u001b[0m\n",
      "\u001b[34m#015 40%|████      | 2/5 [00:01<00:01,  1.52it/s]#015 60%|██████    | 3/5 [00:02<00:01,  1.12it/s]#015 80%|████████  | 4/5 [00:04<00:01,  1.08s/it]#015100%|██████████| 5/5 [00:05<00:00,  1.09s/it]#015100%|██████████| 5/5 [00:05<00:00,  1.08s/it]\u001b[0m\n",
      "\u001b[34m#011-31959.0846#011 = Validation root_mean_squared_error score\u001b[0m\n",
      "\u001b[34m#0111.19s#011 = Training runtime\u001b[0m\n",
      "\u001b[34m#0110.04s#011 = Validation runtime\u001b[0m\n",
      "\u001b[34m#011-31607.8903#011 = Validation root_mean_squared_error score\u001b[0m\n",
      "\u001b[34m#0111.35s#011 = Training runtime\u001b[0m\n",
      "\u001b[34m#0110.04s#011 = Validation runtime\u001b[0m\n",
      "\u001b[34m#011-38342.5411#011 = Validation root_mean_squared_error score\u001b[0m\n",
      "\u001b[34m#0111.42s#011 = Training runtime\u001b[0m\n",
      "\u001b[34m#0110.04s#011 = Validation runtime\u001b[0m\n",
      "\u001b[34m#011-32597.41#011 = Validation root_mean_squared_error score\u001b[0m\n",
      "\u001b[34m#0111.01s#011 = Training runtime\u001b[0m\n",
      "\u001b[34m#0110.04s#011 = Validation runtime\u001b[0m\n",
      "\u001b[34m#011-52271.5227#011 = Validation root_mean_squared_error score\u001b[0m\n",
      "\u001b[34m#0111.14s#011 = Training runtime\u001b[0m\n",
      "\u001b[34m#0110.04s#011 = Validation runtime\u001b[0m\n",
      "\u001b[34mscheduler_options: Key 'training_history_callback_delta_secs': Imputing default value 60\u001b[0m\n",
      "\u001b[34mscheduler_options: Key 'delay_get_config': Imputing default value True\n",
      "\u001b[0m\n",
      "\u001b[34mStarting Experiments\u001b[0m\n",
      "\u001b[34mNum of Finished Tasks is 0\u001b[0m\n",
      "\u001b[34mNum of Pending Tasks is 5\u001b[0m\n",
      "\u001b[34m#015  0%|          | 0/5 [00:00<?, ?it/s]Time out (secs) is 135.0\u001b[0m\n",
      "\u001b[34m#015 40%|████      | 2/5 [00:15<00:22,  7.54s/it]#015 60%|██████    | 3/5 [00:29<00:19,  9.70s/it]#015 80%|████████  | 4/5 [00:44<00:11, 11.30s/it]#015100%|██████████| 5/5 [00:59<00:00, 12.34s/it]#015100%|██████████| 5/5 [00:59<00:00, 11.93s/it]\u001b[0m\n",
      "\n",
      "2020-09-24 06:57:53 Uploading - Uploading generated training model\u001b[34mPlease either provide filename or allow plot in get_training_curves\u001b[0m\n",
      "\u001b[34m#011-57412.4766#011 = Validation root_mean_squared_error score\u001b[0m\n",
      "\u001b[34m#01114.62s#011 = Training runtime\u001b[0m\n",
      "\u001b[34m#0110.19s#011 = Validation runtime\u001b[0m\n",
      "\u001b[34m#011-40368.0508#011 = Validation root_mean_squared_error score\u001b[0m\n",
      "\u001b[34m#01114.37s#011 = Training runtime\u001b[0m\n",
      "\u001b[34m#0110.2s#011 = Validation runtime\u001b[0m\n",
      "\u001b[34m#011-53603.9414#011 = Validation root_mean_squared_error score\u001b[0m\n",
      "\u001b[34m#01114.74s#011 = Training runtime\u001b[0m\n",
      "\u001b[34m#0110.12s#011 = Validation runtime\u001b[0m\n",
      "\u001b[34m#011-65605.6406#011 = Validation root_mean_squared_error score\u001b[0m\n",
      "\u001b[34m#01114.53s#011 = Training runtime\u001b[0m\n",
      "\u001b[34m#0110.12s#011 = Validation runtime\u001b[0m\n",
      "\u001b[34m#011-61410.9023#011 = Validation root_mean_squared_error score\u001b[0m\n",
      "\u001b[34m#01114.78s#011 = Training runtime\u001b[0m\n",
      "\u001b[34m#0110.16s#011 = Validation runtime\u001b[0m\n",
      "\u001b[34mFitting model: weighted_ensemble_k0_l1 ... Training model for up to 299.7s of the 216.38s of remaining time.\u001b[0m\n",
      "\u001b[34m#011-31291.52#011 = Validation root_mean_squared_error score\u001b[0m\n",
      "\u001b[34m#0110.48s#011 = Training runtime\u001b[0m\n",
      "\u001b[34m#0110.0s#011 = Validation runtime\u001b[0m\n",
      "\u001b[34mAutoGluon training complete, total runtime = 84.14s ...\u001b[0m\n",
      "\u001b[34mTraining complete!!\u001b[0m\n",
      "\n",
      "2020-09-24 06:57:58 Completed - Training job completed\n",
      "Training seconds: 163\n",
      "Billable seconds: 163\n"
     ]
    }
   ],
   "source": [
    "sm_model.fit({'training': training_data, 'testing': test_data})"
   ]
  },
  {
   "cell_type": "markdown",
   "metadata": {},
   "source": [
    "### Deploy inference endpoint "
   ]
  },
  {
   "cell_type": "code",
   "execution_count": 41,
   "metadata": {},
   "outputs": [
    {
     "name": "stderr",
     "output_type": "stream",
     "text": [
      "Parameter image will be renamed to image_uri in SageMaker Python SDK v2.\n",
      "Using already existing model: autogluon-tabular-data-2020-09-24-06-53-24-386\n"
     ]
    },
    {
     "name": "stdout",
     "output_type": "stream",
     "text": [
      "-----------------!"
     ]
    }
   ],
   "source": [
    "predictor = sm_model.deploy(1, 'ml.m4.xlarge')"
   ]
  },
  {
   "cell_type": "code",
   "execution_count": 42,
   "metadata": {},
   "outputs": [
    {
     "data": {
      "text/plain": [
       "<sagemaker.predictor.RealTimePredictor at 0x7f8399270b70>"
      ]
     },
     "execution_count": 42,
     "metadata": {},
     "output_type": "execute_result"
    }
   ],
   "source": [
    "predictor"
   ]
  },
  {
   "cell_type": "code",
   "execution_count": 43,
   "metadata": {},
   "outputs": [],
   "source": [
    "import pandas as pd\n",
    "import json\n",
    "import io"
   ]
  },
  {
   "cell_type": "code",
   "execution_count": 44,
   "metadata": {},
   "outputs": [],
   "source": [
    "df = pd.read_csv('s3://vpon-workshop-yianc/test.csv')"
   ]
  },
  {
   "cell_type": "code",
   "execution_count": 45,
   "metadata": {},
   "outputs": [
    {
     "name": "stdout",
     "output_type": "stream",
     "text": [
      "{\"Id\": 1469, \"MSSubClass\": 20, \"MSZoning\": \"RL\", \"LotFrontage\": 85.0, \"LotArea\": 10176, \"Street\": \"Pave\", \"Alley\": NaN, \"LotShape\": \"Reg\", \"LandContour\": \"Lvl\", \"Utilities\": \"AllPub\", \"LotConfig\": \"Inside\", \"LandSlope\": \"Gtl\", \"Neighborhood\": \"Gilbert\", \"Condition1\": \"Norm\", \"Condition2\": \"Norm\", \"BldgType\": \"1Fam\", \"HouseStyle\": \"1Story\", \"OverallQual\": 7, \"OverallCond\": 5, \"YearBuilt\": 1990, \"YearRemodAdd\": 1990, \"RoofStyle\": \"Gable\", \"RoofMatl\": \"CompShg\", \"Exterior1st\": \"HdBoard\", \"Exterior2nd\": \"HdBoard\", \"MasVnrType\": \"None\", \"MasVnrArea\": 0.0, \"ExterQual\": \"TA\", \"ExterCond\": \"TA\", \"Foundation\": \"PConc\", \"BsmtQual\": \"Gd\", \"BsmtCond\": \"TA\", \"BsmtExposure\": \"Gd\", \"BsmtFinType1\": \"GLQ\", \"BsmtFinSF1\": 637.0, \"BsmtFinType2\": \"Unf\", \"BsmtFinSF2\": 0.0, \"BsmtUnfSF\": 663.0, \"TotalBsmtSF\": 1300.0, \"Heating\": \"GasA\", \"HeatingQC\": \"Gd\", \"CentralAir\": \"Y\", \"Electrical\": \"SBrkr\", \"1stFlrSF\": 1341, \"2ndFlrSF\": 0, \"LowQualFinSF\": 0, \"GrLivArea\": 1341, \"BsmtFullBath\": 1.0, \"BsmtHalfBath\": 0.0, \"FullBath\": 1, \"HalfBath\": 1, \"BedroomAbvGr\": 2, \"KitchenAbvGr\": 1, \"KitchenQual\": \"Gd\", \"TotRmsAbvGrd\": 5, \"Functional\": \"Typ\", \"Fireplaces\": 1, \"FireplaceQu\": \"Po\", \"GarageType\": \"Attchd\", \"GarageYrBlt\": 1990.0, \"GarageFinish\": \"Unf\", \"GarageCars\": 2.0, \"GarageArea\": 506.0, \"GarageQual\": \"TA\", \"GarageCond\": \"TA\", \"PavedDrive\": \"Y\", \"WoodDeckSF\": 192, \"OpenPorchSF\": 0, \"EnclosedPorch\": 0, \"3SsnPorch\": 0, \"ScreenPorch\": 0, \"PoolArea\": 0, \"PoolQC\": NaN, \"Fence\": NaN, \"MiscFeature\": NaN, \"MiscVal\": 0, \"MoSold\": 2, \"YrSold\": 2010, \"SaleType\": \"WD\", \"SaleCondition\": \"Normal\"}\n"
     ]
    },
    {
     "data": {
      "text/plain": [
       "b'181393.25\\n'"
      ]
     },
     "execution_count": 45,
     "metadata": {},
     "output_type": "execute_result"
    }
   ],
   "source": [
    "record = df.head(10).T.to_dict()[8]\n",
    "payload = json.dumps(record)\n",
    "print(payload) \n",
    "predictor.content_type = 'application/json'\n",
    "price = predictor.predict(payload)\n",
    "price\n",
    "\n"
   ]
  },
  {
   "cell_type": "code",
   "execution_count": 46,
   "metadata": {
    "scrolled": true
   },
   "outputs": [],
   "source": [
    "predictor.delete_endpoint()"
   ]
  },
  {
   "cell_type": "code",
   "execution_count": null,
   "metadata": {},
   "outputs": [],
   "source": []
  }
 ],
 "metadata": {
  "kernelspec": {
   "display_name": "conda_python3",
   "language": "python",
   "name": "conda_python3"
  },
  "language_info": {
   "codemirror_mode": {
    "name": "ipython",
    "version": 3
   },
   "file_extension": ".py",
   "mimetype": "text/x-python",
   "name": "python",
   "nbconvert_exporter": "python",
   "pygments_lexer": "ipython3",
   "version": "3.6.10"
  }
 },
 "nbformat": 4,
 "nbformat_minor": 1
}
